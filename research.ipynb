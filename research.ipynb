{
 "cells": [
  {
   "cell_type": "markdown",
   "metadata": {},
   "source": [
    "# Section 1 : VectorDB Operations with Faiss"
   ]
  },
  {
   "cell_type": "code",
   "execution_count": 1,
   "metadata": {},
   "outputs": [],
   "source": [
    "from langchain.embeddings.openai import OpenAIEmbeddings\n",
    "from langchain.text_splitter import CharacterTextSplitter\n",
    "from langchain.vectorstores import FAISS\n",
    "from langchain.document_loaders import DirectoryLoader, PyPDFLoader\n",
    "from langchain import OpenAI, VectorDBQA\n",
    "from langchain.chains import RetrievalQAWithSourcesChain\n",
    "import pandas as pd\n",
    "import os\n",
    "from dotenv import load_dotenv # openai api key 입력을 위해서 필요"
   ]
  },
  {
   "cell_type": "code",
   "execution_count": 2,
   "metadata": {},
   "outputs": [],
   "source": [
    "OPENAI_API_KEY_PATH = \"/Users/eugene/Dropbox/0_Dev/07_LLM/project/env_folder/tonchat_key/.env\"\n",
    "# 셋째, .env 파일을 현재 실행환경에 등록. 그 결과, 개별 API 함수의 인자에 KEY값을 일일이 넣지 않아도 됨\n",
    "load_dotenv(OPENAI_API_KEY_PATH)\n",
    "# 넷째, 현재 실행환경에서 \"OPENAI_API_KEY\"라고 명명된 값을 불러오기\n",
    "OPENAI_API_KEY = os.getenv(\"OPENAI_API_KEY\")"
   ]
  },
  {
   "cell_type": "code",
   "execution_count": 3,
   "metadata": {},
   "outputs": [
    {
     "name": "stderr",
     "output_type": "stream",
     "text": [
      "/Users/eugene/opt/anaconda3/envs/LLM/lib/python3.10/site-packages/langchain_core/_api/deprecation.py:117: LangChainDeprecationWarning: The class `langchain_community.embeddings.openai.OpenAIEmbeddings` was deprecated in langchain-community 0.1.0 and will be removed in 0.2.0. An updated version of the class exists in the langchain-openai package and should be used instead. To use it run `pip install -U langchain-openai` and import as `from langchain_openai import OpenAIEmbeddings`.\n",
      "  warn_deprecated(\n"
     ]
    }
   ],
   "source": [
    "###########################################\n",
    "#       pdf 원본을 담은 loader 객체 생성       #\n",
    "###########################################\n",
    "\n",
    "# 전처리전의 data 폴더\n",
    "data = \"./data/\"\n",
    "# PyPDFLoader as the class method to load the files\n",
    "loader = DirectoryLoader(data, loader_cls=PyPDFLoader)\n",
    "\n",
    "###########################################\n",
    "#          character 단위로 분할             #\n",
    "###########################################\n",
    "\n",
    "# load_and_split() 메소드를 호출하여 문서를 로드하고 page 단위로 분할저장\n",
    "pages = loader.load_and_split()\n",
    "\n",
    "# CharacterTextSplitter 객체 생성\n",
    "text_splitter = CharacterTextSplitter(chunk_size=1000, chunk_overlap=0)\n",
    "\n",
    "# CharacterTextSplitter 객체에 pages를 인자로 넣어서, character로 쪼개서 저장\n",
    "docs = text_splitter.split_documents(pages)\n",
    "\n",
    "embeddings = OpenAIEmbeddings()"
   ]
  },
  {
   "cell_type": "code",
   "execution_count": 4,
   "metadata": {},
   "outputs": [
    {
     "data": {
      "text/plain": [
       "['/Users/eugene/Dropbox/0_Dev/07_LLM/project/tonchat',\n",
       " '/Users/eugene/opt/anaconda3/envs/LLM/lib/python310.zip',\n",
       " '/Users/eugene/opt/anaconda3/envs/LLM/lib/python3.10',\n",
       " '/Users/eugene/opt/anaconda3/envs/LLM/lib/python3.10/lib-dynload',\n",
       " '',\n",
       " '/Users/eugene/opt/anaconda3/envs/LLM/lib/python3.10/site-packages']"
      ]
     },
     "execution_count": 4,
     "metadata": {},
     "output_type": "execute_result"
    }
   ],
   "source": [
    "# 현재 파이썬 라이브러리가 설치된 장소를 알아보자\n",
    "import sys\n",
    "sys.path"
   ]
  },
  {
   "cell_type": "code",
   "execution_count": null,
   "metadata": {},
   "outputs": [],
   "source": []
  },
  {
   "cell_type": "code",
   "execution_count": 5,
   "metadata": {},
   "outputs": [
    {
     "name": "stdout",
     "output_type": "stream",
     "text": [
      "Package                                  Version    Location                                                          Installer\n",
      "---------------------------------------- ---------- ----------------------------------------------------------------- ---------\n",
      "aiofiles                                 23.2.1     /Users/eugene/opt/anaconda3/envs/LLM/lib/python3.10/site-packages pip\n",
      "aiohttp                                  3.9.3      /Users/eugene/opt/anaconda3/envs/LLM/lib/python3.10/site-packages pip\n",
      "aiosignal                                1.3.1      /Users/eugene/opt/anaconda3/envs/LLM/lib/python3.10/site-packages pip\n",
      "altair                                   5.2.0      /Users/eugene/opt/anaconda3/envs/LLM/lib/python3.10/site-packages pip\n",
      "annotated-types                          0.6.0      /Users/eugene/opt/anaconda3/envs/LLM/lib/python3.10/site-packages pip\n",
      "anyio                                    4.2.0      /Users/eugene/opt/anaconda3/envs/LLM/lib/python3.10/site-packages pip\n",
      "appnope                                  0.1.4      /Users/eugene/opt/anaconda3/envs/LLM/lib/python3.10/site-packages conda\n",
      "asgiref                                  3.7.2      /Users/eugene/opt/anaconda3/envs/LLM/lib/python3.10/site-packages pip\n",
      "asttokens                                2.4.1      /Users/eugene/opt/anaconda3/envs/LLM/lib/python3.10/site-packages conda\n",
      "async-timeout                            4.0.3      /Users/eugene/opt/anaconda3/envs/LLM/lib/python3.10/site-packages pip\n",
      "attrs                                    23.2.0     /Users/eugene/opt/anaconda3/envs/LLM/lib/python3.10/site-packages pip\n",
      "backoff                                  2.2.1      /Users/eugene/opt/anaconda3/envs/LLM/lib/python3.10/site-packages pip\n",
      "bcrypt                                   4.1.2      /Users/eugene/opt/anaconda3/envs/LLM/lib/python3.10/site-packages pip\n",
      "beautifulsoup4                           4.12.3     /Users/eugene/opt/anaconda3/envs/LLM/lib/python3.10/site-packages pip\n",
      "blinker                                  1.7.0      /Users/eugene/opt/anaconda3/envs/LLM/lib/python3.10/site-packages pip\n",
      "build                                    1.0.3      /Users/eugene/opt/anaconda3/envs/LLM/lib/python3.10/site-packages pip\n",
      "cachetools                               5.3.2      /Users/eugene/opt/anaconda3/envs/LLM/lib/python3.10/site-packages pip\n",
      "certifi                                  2024.2.2   /Users/eugene/opt/anaconda3/envs/LLM/lib/python3.10/site-packages pip\n",
      "charset-normalizer                       3.3.2      /Users/eugene/opt/anaconda3/envs/LLM/lib/python3.10/site-packages pip\n",
      "chroma-hnswlib                           0.7.3      /Users/eugene/opt/anaconda3/envs/LLM/lib/python3.10/site-packages pip\n",
      "chromadb                                 0.4.22     /Users/eugene/opt/anaconda3/envs/LLM/lib/python3.10/site-packages pip\n",
      "ci-info                                  0.3.0      /Users/eugene/opt/anaconda3/envs/LLM/lib/python3.10/site-packages pip\n",
      "click                                    8.1.7      /Users/eugene/opt/anaconda3/envs/LLM/lib/python3.10/site-packages pip\n",
      "coloredlogs                              15.0.1     /Users/eugene/opt/anaconda3/envs/LLM/lib/python3.10/site-packages pip\n",
      "comm                                     0.2.1      /Users/eugene/opt/anaconda3/envs/LLM/lib/python3.10/site-packages conda\n",
      "configobj                                5.0.8      /Users/eugene/opt/anaconda3/envs/LLM/lib/python3.10/site-packages pip\n",
      "configparser                             6.0.1      /Users/eugene/opt/anaconda3/envs/LLM/lib/python3.10/site-packages pip\n",
      "contourpy                                1.2.0      /Users/eugene/opt/anaconda3/envs/LLM/lib/python3.10/site-packages pip\n",
      "cycler                                   0.12.1     /Users/eugene/opt/anaconda3/envs/LLM/lib/python3.10/site-packages pip\n",
      "dataclasses-json                         0.6.4      /Users/eugene/opt/anaconda3/envs/LLM/lib/python3.10/site-packages pip\n",
      "DateTime                                 5.4        /Users/eugene/opt/anaconda3/envs/LLM/lib/python3.10/site-packages pip\n",
      "debugpy                                  1.8.1      /Users/eugene/opt/anaconda3/envs/LLM/lib/python3.10/site-packages conda\n",
      "decorator                                5.1.1      /Users/eugene/opt/anaconda3/envs/LLM/lib/python3.10/site-packages conda\n",
      "Deprecated                               1.2.14     /Users/eugene/opt/anaconda3/envs/LLM/lib/python3.10/site-packages pip\n",
      "entrypoints                              0.4        /Users/eugene/opt/anaconda3/envs/LLM/lib/python3.10/site-packages pip\n",
      "etelemetry                               0.3.1      /Users/eugene/opt/anaconda3/envs/LLM/lib/python3.10/site-packages pip\n",
      "exceptiongroup                           1.2.0      /Users/eugene/opt/anaconda3/envs/LLM/lib/python3.10/site-packages conda\n",
      "executing                                2.0.1      /Users/eugene/opt/anaconda3/envs/LLM/lib/python3.10/site-packages conda\n",
      "faiss-cpu                                1.7.4      /Users/eugene/opt/anaconda3/envs/LLM/lib/python3.10/site-packages pip\n",
      "Faker                                    23.2.0     /Users/eugene/opt/anaconda3/envs/LLM/lib/python3.10/site-packages pip\n",
      "fastapi                                  0.109.2    /Users/eugene/opt/anaconda3/envs/LLM/lib/python3.10/site-packages pip\n",
      "favicon                                  0.7.0      /Users/eugene/opt/anaconda3/envs/LLM/lib/python3.10/site-packages pip\n",
      "filelock                                 3.13.1     /Users/eugene/opt/anaconda3/envs/LLM/lib/python3.10/site-packages pip\n",
      "fitz                                     0.0.1.dev2 /Users/eugene/opt/anaconda3/envs/LLM/lib/python3.10/site-packages pip\n",
      "flatbuffers                              23.5.26    /Users/eugene/opt/anaconda3/envs/LLM/lib/python3.10/site-packages pip\n",
      "fonttools                                4.49.0     /Users/eugene/opt/anaconda3/envs/LLM/lib/python3.10/site-packages pip\n",
      "frontend                                 0.0.3      /Users/eugene/opt/anaconda3/envs/LLM/lib/python3.10/site-packages pip\n",
      "frozenlist                               1.4.1      /Users/eugene/opt/anaconda3/envs/LLM/lib/python3.10/site-packages pip\n",
      "fsspec                                   2024.2.0   /Users/eugene/opt/anaconda3/envs/LLM/lib/python3.10/site-packages pip\n",
      "gitdb                                    4.0.11     /Users/eugene/opt/anaconda3/envs/LLM/lib/python3.10/site-packages pip\n",
      "GitPython                                3.1.42     /Users/eugene/opt/anaconda3/envs/LLM/lib/python3.10/site-packages pip\n",
      "google-auth                              2.28.0     /Users/eugene/opt/anaconda3/envs/LLM/lib/python3.10/site-packages pip\n",
      "googleapis-common-protos                 1.62.0     /Users/eugene/opt/anaconda3/envs/LLM/lib/python3.10/site-packages pip\n",
      "greenlet                                 3.0.3      /Users/eugene/opt/anaconda3/envs/LLM/lib/python3.10/site-packages pip\n",
      "grpcio                                   1.60.1     /Users/eugene/opt/anaconda3/envs/LLM/lib/python3.10/site-packages pip\n",
      "h11                                      0.14.0     /Users/eugene/opt/anaconda3/envs/LLM/lib/python3.10/site-packages pip\n",
      "htbuilder                                0.6.2      /Users/eugene/opt/anaconda3/envs/LLM/lib/python3.10/site-packages pip\n",
      "httplib2                                 0.22.0     /Users/eugene/opt/anaconda3/envs/LLM/lib/python3.10/site-packages pip\n",
      "httptools                                0.6.1      /Users/eugene/opt/anaconda3/envs/LLM/lib/python3.10/site-packages pip\n",
      "huggingface-hub                          0.20.3     /Users/eugene/opt/anaconda3/envs/LLM/lib/python3.10/site-packages pip\n",
      "humanfriendly                            10.0       /Users/eugene/opt/anaconda3/envs/LLM/lib/python3.10/site-packages pip\n",
      "idna                                     3.6        /Users/eugene/opt/anaconda3/envs/LLM/lib/python3.10/site-packages pip\n",
      "importlib-metadata                       6.11.0     /Users/eugene/opt/anaconda3/envs/LLM/lib/python3.10/site-packages pip\n",
      "importlib-resources                      6.1.1      /Users/eugene/opt/anaconda3/envs/LLM/lib/python3.10/site-packages pip\n",
      "InstructorEmbedding                      1.0.1      /Users/eugene/opt/anaconda3/envs/LLM/lib/python3.10/site-packages pip\n",
      "ipykernel                                6.29.2     /Users/eugene/opt/anaconda3/envs/LLM/lib/python3.10/site-packages conda\n",
      "ipython                                  8.21.0     /Users/eugene/opt/anaconda3/envs/LLM/lib/python3.10/site-packages conda\n",
      "isodate                                  0.6.1      /Users/eugene/opt/anaconda3/envs/LLM/lib/python3.10/site-packages pip\n",
      "itsdangerous                             2.1.2      /Users/eugene/opt/anaconda3/envs/LLM/lib/python3.10/site-packages pip\n",
      "jedi                                     0.19.1     /Users/eugene/opt/anaconda3/envs/LLM/lib/python3.10/site-packages conda\n",
      "Jinja2                                   3.1.3      /Users/eugene/opt/anaconda3/envs/LLM/lib/python3.10/site-packages pip\n",
      "joblib                                   1.3.2      /Users/eugene/opt/anaconda3/envs/LLM/lib/python3.10/site-packages pip\n",
      "jsonpatch                                1.33       /Users/eugene/opt/anaconda3/envs/LLM/lib/python3.10/site-packages pip\n",
      "jsonpointer                              2.4        /Users/eugene/opt/anaconda3/envs/LLM/lib/python3.10/site-packages pip\n",
      "jsonschema                               4.21.1     /Users/eugene/opt/anaconda3/envs/LLM/lib/python3.10/site-packages pip\n",
      "jsonschema-specifications                2023.12.1  /Users/eugene/opt/anaconda3/envs/LLM/lib/python3.10/site-packages pip\n",
      "jupyter_client                           8.6.0      /Users/eugene/opt/anaconda3/envs/LLM/lib/python3.10/site-packages conda\n",
      "jupyter_core                             5.7.1      /Users/eugene/opt/anaconda3/envs/LLM/lib/python3.10/site-packages conda\n",
      "kiwisolver                               1.4.5      /Users/eugene/opt/anaconda3/envs/LLM/lib/python3.10/site-packages pip\n",
      "kubernetes                               29.0.0     /Users/eugene/opt/anaconda3/envs/LLM/lib/python3.10/site-packages pip\n",
      "langchain                                0.1.7      /Users/eugene/opt/anaconda3/envs/LLM/lib/python3.10/site-packages pip\n",
      "langchain-community                      0.0.20     /Users/eugene/opt/anaconda3/envs/LLM/lib/python3.10/site-packages pip\n",
      "langchain-core                           0.1.23     /Users/eugene/opt/anaconda3/envs/LLM/lib/python3.10/site-packages pip\n",
      "langsmith                                0.0.87     /Users/eugene/opt/anaconda3/envs/LLM/lib/python3.10/site-packages pip\n",
      "looseversion                             1.3.0      /Users/eugene/opt/anaconda3/envs/LLM/lib/python3.10/site-packages pip\n",
      "lxml                                     5.1.0      /Users/eugene/opt/anaconda3/envs/LLM/lib/python3.10/site-packages pip\n",
      "Markdown                                 3.5.2      /Users/eugene/opt/anaconda3/envs/LLM/lib/python3.10/site-packages pip\n",
      "markdown-it-py                           3.0.0      /Users/eugene/opt/anaconda3/envs/LLM/lib/python3.10/site-packages pip\n",
      "markdownlit                              0.0.7      /Users/eugene/opt/anaconda3/envs/LLM/lib/python3.10/site-packages pip\n",
      "MarkupSafe                               2.1.5      /Users/eugene/opt/anaconda3/envs/LLM/lib/python3.10/site-packages pip\n",
      "marshmallow                              3.20.2     /Users/eugene/opt/anaconda3/envs/LLM/lib/python3.10/site-packages pip\n",
      "matplotlib                               3.8.3      /Users/eugene/opt/anaconda3/envs/LLM/lib/python3.10/site-packages pip\n",
      "matplotlib-inline                        0.1.6      /Users/eugene/opt/anaconda3/envs/LLM/lib/python3.10/site-packages conda\n",
      "mdurl                                    0.1.2      /Users/eugene/opt/anaconda3/envs/LLM/lib/python3.10/site-packages pip\n",
      "mmh3                                     4.1.0      /Users/eugene/opt/anaconda3/envs/LLM/lib/python3.10/site-packages pip\n",
      "monotonic                                1.6        /Users/eugene/opt/anaconda3/envs/LLM/lib/python3.10/site-packages pip\n",
      "more-itertools                           10.2.0     /Users/eugene/opt/anaconda3/envs/LLM/lib/python3.10/site-packages pip\n",
      "mpmath                                   1.3.0      /Users/eugene/opt/anaconda3/envs/LLM/lib/python3.10/site-packages pip\n",
      "multidict                                6.0.5      /Users/eugene/opt/anaconda3/envs/LLM/lib/python3.10/site-packages pip\n",
      "mypy-extensions                          1.0.0      /Users/eugene/opt/anaconda3/envs/LLM/lib/python3.10/site-packages pip\n",
      "nest_asyncio                             1.6.0      /Users/eugene/opt/anaconda3/envs/LLM/lib/python3.10/site-packages conda\n",
      "networkx                                 3.2.1      /Users/eugene/opt/anaconda3/envs/LLM/lib/python3.10/site-packages pip\n",
      "nibabel                                  5.2.1      /Users/eugene/opt/anaconda3/envs/LLM/lib/python3.10/site-packages pip\n",
      "nipype                                   1.8.6      /Users/eugene/opt/anaconda3/envs/LLM/lib/python3.10/site-packages pip\n",
      "nltk                                     3.8.1      /Users/eugene/opt/anaconda3/envs/LLM/lib/python3.10/site-packages pip\n",
      "numpy                                    1.26.4     /Users/eugene/opt/anaconda3/envs/LLM/lib/python3.10/site-packages pip\n",
      "oauthlib                                 3.2.2      /Users/eugene/opt/anaconda3/envs/LLM/lib/python3.10/site-packages pip\n",
      "onnxruntime                              1.16.3     /Users/eugene/opt/anaconda3/envs/LLM/lib/python3.10/site-packages pip\n",
      "openai                                   0.28.1     /Users/eugene/opt/anaconda3/envs/LLM/lib/python3.10/site-packages pip\n",
      "opentelemetry-api                        1.22.0     /Users/eugene/opt/anaconda3/envs/LLM/lib/python3.10/site-packages pip\n",
      "opentelemetry-exporter-otlp-proto-common 1.22.0     /Users/eugene/opt/anaconda3/envs/LLM/lib/python3.10/site-packages pip\n",
      "opentelemetry-exporter-otlp-proto-grpc   1.22.0     /Users/eugene/opt/anaconda3/envs/LLM/lib/python3.10/site-packages pip\n",
      "opentelemetry-instrumentation            0.43b0     /Users/eugene/opt/anaconda3/envs/LLM/lib/python3.10/site-packages pip\n",
      "opentelemetry-instrumentation-asgi       0.43b0     /Users/eugene/opt/anaconda3/envs/LLM/lib/python3.10/site-packages pip\n",
      "opentelemetry-instrumentation-fastapi    0.43b0     /Users/eugene/opt/anaconda3/envs/LLM/lib/python3.10/site-packages pip\n",
      "opentelemetry-proto                      1.22.0     /Users/eugene/opt/anaconda3/envs/LLM/lib/python3.10/site-packages pip\n",
      "opentelemetry-sdk                        1.22.0     /Users/eugene/opt/anaconda3/envs/LLM/lib/python3.10/site-packages pip\n",
      "opentelemetry-semantic-conventions       0.43b0     /Users/eugene/opt/anaconda3/envs/LLM/lib/python3.10/site-packages pip\n",
      "opentelemetry-util-http                  0.43b0     /Users/eugene/opt/anaconda3/envs/LLM/lib/python3.10/site-packages pip\n",
      "overrides                                7.7.0      /Users/eugene/opt/anaconda3/envs/LLM/lib/python3.10/site-packages pip\n",
      "packaging                                23.2       /Users/eugene/opt/anaconda3/envs/LLM/lib/python3.10/site-packages conda\n",
      "pandas                                   2.2.0      /Users/eugene/opt/anaconda3/envs/LLM/lib/python3.10/site-packages pip\n",
      "parso                                    0.8.3      /Users/eugene/opt/anaconda3/envs/LLM/lib/python3.10/site-packages conda\n",
      "pathlib                                  1.0.1      /Users/eugene/opt/anaconda3/envs/LLM/lib/python3.10/site-packages pip\n",
      "pexpect                                  4.9.0      /Users/eugene/opt/anaconda3/envs/LLM/lib/python3.10/site-packages conda\n",
      "pickleshare                              0.7.5      /Users/eugene/opt/anaconda3/envs/LLM/lib/python3.10/site-packages conda\n",
      "pillow                                   10.2.0     /Users/eugene/opt/anaconda3/envs/LLM/lib/python3.10/site-packages pip\n",
      "pip                                      24.0       /Users/eugene/opt/anaconda3/envs/LLM/lib/python3.10/site-packages\n",
      "platformdirs                             4.2.0      /Users/eugene/opt/anaconda3/envs/LLM/lib/python3.10/site-packages conda\n",
      "posthog                                  3.4.1      /Users/eugene/opt/anaconda3/envs/LLM/lib/python3.10/site-packages pip\n",
      "prometheus_client                        0.20.0     /Users/eugene/opt/anaconda3/envs/LLM/lib/python3.10/site-packages pip\n",
      "prompt-toolkit                           3.0.42     /Users/eugene/opt/anaconda3/envs/LLM/lib/python3.10/site-packages conda\n",
      "protobuf                                 4.25.3     /Users/eugene/opt/anaconda3/envs/LLM/lib/python3.10/site-packages pip\n",
      "prov                                     2.0.0      /Users/eugene/opt/anaconda3/envs/LLM/lib/python3.10/site-packages pip\n",
      "psutil                                   5.9.8      /Users/eugene/opt/anaconda3/envs/LLM/lib/python3.10/site-packages conda\n",
      "ptyprocess                               0.7.0      /Users/eugene/opt/anaconda3/envs/LLM/lib/python3.10/site-packages conda\n",
      "pulsar-client                            3.4.0      /Users/eugene/opt/anaconda3/envs/LLM/lib/python3.10/site-packages pip\n",
      "pure-eval                                0.2.2      /Users/eugene/opt/anaconda3/envs/LLM/lib/python3.10/site-packages conda\n",
      "pyarrow                                  15.0.0     /Users/eugene/opt/anaconda3/envs/LLM/lib/python3.10/site-packages pip\n",
      "pyasn1                                   0.5.1      /Users/eugene/opt/anaconda3/envs/LLM/lib/python3.10/site-packages pip\n",
      "pyasn1-modules                           0.3.0      /Users/eugene/opt/anaconda3/envs/LLM/lib/python3.10/site-packages pip\n",
      "pydantic                                 2.6.1      /Users/eugene/opt/anaconda3/envs/LLM/lib/python3.10/site-packages pip\n",
      "pydantic_core                            2.16.2     /Users/eugene/opt/anaconda3/envs/LLM/lib/python3.10/site-packages pip\n",
      "pydeck                                   0.8.1b0    /Users/eugene/opt/anaconda3/envs/LLM/lib/python3.10/site-packages pip\n",
      "pydot                                    2.0.0      /Users/eugene/opt/anaconda3/envs/LLM/lib/python3.10/site-packages pip\n",
      "Pygments                                 2.17.2     /Users/eugene/opt/anaconda3/envs/LLM/lib/python3.10/site-packages conda\n",
      "pymdown-extensions                       10.7       /Users/eugene/opt/anaconda3/envs/LLM/lib/python3.10/site-packages pip\n",
      "PyMuPDF                                  1.23.26    /Users/eugene/opt/anaconda3/envs/LLM/lib/python3.10/site-packages pip\n",
      "PyMuPDFb                                 1.23.22    /Users/eugene/opt/anaconda3/envs/LLM/lib/python3.10/site-packages pip\n",
      "pyparsing                                3.1.1      /Users/eugene/opt/anaconda3/envs/LLM/lib/python3.10/site-packages pip\n",
      "pypdf                                    4.0.2      /Users/eugene/opt/anaconda3/envs/LLM/lib/python3.10/site-packages conda\n",
      "PyPDF2                                   3.0.1      /Users/eugene/opt/anaconda3/envs/LLM/lib/python3.10/site-packages pip\n",
      "PyPika                                   0.48.9     /Users/eugene/opt/anaconda3/envs/LLM/lib/python3.10/site-packages pip\n",
      "pyproject_hooks                          1.0.0      /Users/eugene/opt/anaconda3/envs/LLM/lib/python3.10/site-packages pip\n",
      "python-dateutil                          2.8.2      /Users/eugene/opt/anaconda3/envs/LLM/lib/python3.10/site-packages conda\n",
      "python-dotenv                            1.0.1      /Users/eugene/opt/anaconda3/envs/LLM/lib/python3.10/site-packages pip\n",
      "pytils                                   0.4.1      /Users/eugene/opt/anaconda3/envs/LLM/lib/python3.10/site-packages pip\n",
      "pytz                                     2024.1     /Users/eugene/opt/anaconda3/envs/LLM/lib/python3.10/site-packages pip\n",
      "pyxnat                                   1.6.2      /Users/eugene/opt/anaconda3/envs/LLM/lib/python3.10/site-packages pip\n",
      "PyYAML                                   6.0.1      /Users/eugene/opt/anaconda3/envs/LLM/lib/python3.10/site-packages pip\n",
      "pyzmq                                    25.1.2     /Users/eugene/opt/anaconda3/envs/LLM/lib/python3.10/site-packages conda\n",
      "rdflib                                   7.0.0      /Users/eugene/opt/anaconda3/envs/LLM/lib/python3.10/site-packages pip\n",
      "referencing                              0.33.0     /Users/eugene/opt/anaconda3/envs/LLM/lib/python3.10/site-packages pip\n",
      "regex                                    2023.12.25 /Users/eugene/opt/anaconda3/envs/LLM/lib/python3.10/site-packages pip\n",
      "requests                                 2.31.0     /Users/eugene/opt/anaconda3/envs/LLM/lib/python3.10/site-packages pip\n",
      "requests-oauthlib                        1.3.1      /Users/eugene/opt/anaconda3/envs/LLM/lib/python3.10/site-packages pip\n",
      "rich                                     13.7.0     /Users/eugene/opt/anaconda3/envs/LLM/lib/python3.10/site-packages pip\n",
      "rpds-py                                  0.18.0     /Users/eugene/opt/anaconda3/envs/LLM/lib/python3.10/site-packages pip\n",
      "rsa                                      4.9        /Users/eugene/opt/anaconda3/envs/LLM/lib/python3.10/site-packages pip\n",
      "safetensors                              0.4.2      /Users/eugene/opt/anaconda3/envs/LLM/lib/python3.10/site-packages pip\n",
      "scikit-learn                             1.4.0      /Users/eugene/opt/anaconda3/envs/LLM/lib/python3.10/site-packages pip\n",
      "scipy                                    1.12.0     /Users/eugene/opt/anaconda3/envs/LLM/lib/python3.10/site-packages pip\n",
      "sentence-transformers                    2.3.1      /Users/eugene/opt/anaconda3/envs/LLM/lib/python3.10/site-packages pip\n",
      "sentencepiece                            0.1.99     /Users/eugene/opt/anaconda3/envs/LLM/lib/python3.10/site-packages pip\n",
      "setuptools                               69.1.0     /Users/eugene/opt/anaconda3/envs/LLM/lib/python3.10/site-packages\n",
      "simplejson                               3.19.2     /Users/eugene/opt/anaconda3/envs/LLM/lib/python3.10/site-packages pip\n",
      "six                                      1.16.0     /Users/eugene/opt/anaconda3/envs/LLM/lib/python3.10/site-packages conda\n",
      "smmap                                    5.0.1      /Users/eugene/opt/anaconda3/envs/LLM/lib/python3.10/site-packages pip\n",
      "sniffio                                  1.3.0      /Users/eugene/opt/anaconda3/envs/LLM/lib/python3.10/site-packages pip\n",
      "soupsieve                                2.5        /Users/eugene/opt/anaconda3/envs/LLM/lib/python3.10/site-packages pip\n",
      "SQLAlchemy                               2.0.27     /Users/eugene/opt/anaconda3/envs/LLM/lib/python3.10/site-packages pip\n",
      "st-annotated-text                        4.0.1      /Users/eugene/opt/anaconda3/envs/LLM/lib/python3.10/site-packages pip\n",
      "stack-data                               0.6.2      /Users/eugene/opt/anaconda3/envs/LLM/lib/python3.10/site-packages conda\n",
      "starlette                                0.36.3     /Users/eugene/opt/anaconda3/envs/LLM/lib/python3.10/site-packages pip\n",
      "streamlit                                1.31.1     /Users/eugene/opt/anaconda3/envs/LLM/lib/python3.10/site-packages pip\n",
      "streamlit-camera-input-live              0.2.0      /Users/eugene/opt/anaconda3/envs/LLM/lib/python3.10/site-packages pip\n",
      "streamlit-card                           1.0.0      /Users/eugene/opt/anaconda3/envs/LLM/lib/python3.10/site-packages pip\n",
      "streamlit-embedcode                      0.1.2      /Users/eugene/opt/anaconda3/envs/LLM/lib/python3.10/site-packages pip\n",
      "streamlit-extras                         0.4.0      /Users/eugene/opt/anaconda3/envs/LLM/lib/python3.10/site-packages pip\n",
      "streamlit-faker                          0.0.3      /Users/eugene/opt/anaconda3/envs/LLM/lib/python3.10/site-packages pip\n",
      "streamlit-image-coordinates              0.1.6      /Users/eugene/opt/anaconda3/envs/LLM/lib/python3.10/site-packages pip\n",
      "streamlit-keyup                          0.2.3      /Users/eugene/opt/anaconda3/envs/LLM/lib/python3.10/site-packages pip\n",
      "streamlit-toggle-switch                  1.0.2      /Users/eugene/opt/anaconda3/envs/LLM/lib/python3.10/site-packages pip\n",
      "streamlit-vertical-slider                2.5.5      /Users/eugene/opt/anaconda3/envs/LLM/lib/python3.10/site-packages pip\n",
      "sympy                                    1.12       /Users/eugene/opt/anaconda3/envs/LLM/lib/python3.10/site-packages pip\n",
      "tenacity                                 8.2.3      /Users/eugene/opt/anaconda3/envs/LLM/lib/python3.10/site-packages pip\n",
      "threadpoolctl                            3.3.0      /Users/eugene/opt/anaconda3/envs/LLM/lib/python3.10/site-packages pip\n",
      "tiktoken                                 0.6.0      /Users/eugene/opt/anaconda3/envs/LLM/lib/python3.10/site-packages pip\n",
      "tokenizers                               0.15.2     /Users/eugene/opt/anaconda3/envs/LLM/lib/python3.10/site-packages pip\n",
      "toml                                     0.10.2     /Users/eugene/opt/anaconda3/envs/LLM/lib/python3.10/site-packages pip\n",
      "tomli                                    2.0.1      /Users/eugene/opt/anaconda3/envs/LLM/lib/python3.10/site-packages pip\n",
      "tools                                    0.1.9      /Users/eugene/opt/anaconda3/envs/LLM/lib/python3.10/site-packages pip\n",
      "toolz                                    0.12.1     /Users/eugene/opt/anaconda3/envs/LLM/lib/python3.10/site-packages pip\n",
      "torch                                    2.2.0      /Users/eugene/opt/anaconda3/envs/LLM/lib/python3.10/site-packages pip\n",
      "tornado                                  6.4        /Users/eugene/opt/anaconda3/envs/LLM/lib/python3.10/site-packages conda\n",
      "tqdm                                     4.66.2     /Users/eugene/opt/anaconda3/envs/LLM/lib/python3.10/site-packages pip\n",
      "traitlets                                5.14.1     /Users/eugene/opt/anaconda3/envs/LLM/lib/python3.10/site-packages conda\n",
      "traits                                   6.3.2      /Users/eugene/opt/anaconda3/envs/LLM/lib/python3.10/site-packages pip\n",
      "transformers                             4.37.2     /Users/eugene/opt/anaconda3/envs/LLM/lib/python3.10/site-packages pip\n",
      "typer                                    0.9.0      /Users/eugene/opt/anaconda3/envs/LLM/lib/python3.10/site-packages pip\n",
      "typing_extensions                        4.9.0      /Users/eugene/opt/anaconda3/envs/LLM/lib/python3.10/site-packages conda\n",
      "typing-inspect                           0.9.0      /Users/eugene/opt/anaconda3/envs/LLM/lib/python3.10/site-packages pip\n",
      "tzdata                                   2024.1     /Users/eugene/opt/anaconda3/envs/LLM/lib/python3.10/site-packages pip\n",
      "tzlocal                                  5.2        /Users/eugene/opt/anaconda3/envs/LLM/lib/python3.10/site-packages pip\n",
      "urllib3                                  2.2.0      /Users/eugene/opt/anaconda3/envs/LLM/lib/python3.10/site-packages pip\n",
      "uvicorn                                  0.27.1     /Users/eugene/opt/anaconda3/envs/LLM/lib/python3.10/site-packages pip\n",
      "uvloop                                   0.19.0     /Users/eugene/opt/anaconda3/envs/LLM/lib/python3.10/site-packages pip\n",
      "validators                               0.22.0     /Users/eugene/opt/anaconda3/envs/LLM/lib/python3.10/site-packages pip\n",
      "watchdog                                 4.0.0      /Users/eugene/opt/anaconda3/envs/LLM/lib/python3.10/site-packages pip\n",
      "watchfiles                               0.21.0     /Users/eugene/opt/anaconda3/envs/LLM/lib/python3.10/site-packages pip\n",
      "wcwidth                                  0.2.13     /Users/eugene/opt/anaconda3/envs/LLM/lib/python3.10/site-packages conda\n",
      "websocket-client                         1.7.0      /Users/eugene/opt/anaconda3/envs/LLM/lib/python3.10/site-packages pip\n",
      "websockets                               12.0       /Users/eugene/opt/anaconda3/envs/LLM/lib/python3.10/site-packages pip\n",
      "wheel                                    0.42.0     /Users/eugene/opt/anaconda3/envs/LLM/lib/python3.10/site-packages\n",
      "wrapt                                    1.16.0     /Users/eugene/opt/anaconda3/envs/LLM/lib/python3.10/site-packages pip\n",
      "yarl                                     1.9.4      /Users/eugene/opt/anaconda3/envs/LLM/lib/python3.10/site-packages pip\n",
      "zipp                                     3.17.0     /Users/eugene/opt/anaconda3/envs/LLM/lib/python3.10/site-packages conda\n",
      "zope.interface                           6.1        /Users/eugene/opt/anaconda3/envs/LLM/lib/python3.10/site-packages pip\n"
     ]
    }
   ],
   "source": [
    "# 위의 경로에 패키지들이 제대로 설칭되었는지 확인\n",
    "!pip list -v"
   ]
  },
  {
   "cell_type": "code",
   "execution_count": 6,
   "metadata": {},
   "outputs": [],
   "source": [
    "###########################################\n",
    "#              vector DB 생성              #\n",
    "###########################################\n",
    "\n",
    "# docs를 embedding model을 이용하여 vector DB로 변환\n",
    "db = FAISS.from_documents(docs, embeddings)"
   ]
  },
  {
   "cell_type": "code",
   "execution_count": 60,
   "metadata": {},
   "outputs": [
    {
     "name": "stdout",
     "output_type": "stream",
     "text": [
      "['_FAISS__add', '_FAISS__from', '__abstractmethods__', '__class__', '__delattr__', '__dict__', '__dir__', '__doc__', '__eq__', '__format__', '__ge__', '__getattribute__', '__gt__', '__hash__', '__init__', '__init_subclass__', '__le__', '__lt__', '__module__', '__ne__', '__new__', '__reduce__', '__reduce_ex__', '__repr__', '__setattr__', '__sizeof__', '__slots__', '__str__', '__subclasshook__', '__weakref__', '_abc_impl', '_aembed_documents', '_aembed_query', '_asimilarity_search_with_relevance_scores', '_cosine_relevance_score_fn', '_embed_documents', '_embed_query', '_euclidean_relevance_score_fn', '_get_retriever_tags', '_max_inner_product_relevance_score_fn', '_normalize_L2', '_select_relevance_score_fn', '_similarity_search_with_relevance_scores', 'aadd_documents', 'aadd_texts', 'add_documents', 'add_embeddings', 'add_texts', 'adelete', 'afrom_documents', 'afrom_embeddings', 'afrom_texts', 'amax_marginal_relevance_search', 'amax_marginal_relevance_search_by_vector', 'amax_marginal_relevance_search_with_score_by_vector', 'as_retriever', 'asearch', 'asimilarity_search', 'asimilarity_search_by_vector', 'asimilarity_search_with_relevance_scores', 'asimilarity_search_with_score', 'asimilarity_search_with_score_by_vector', 'delete', 'deserialize_from_bytes', 'distance_strategy', 'docstore', 'embedding_function', 'embeddings', 'from_documents', 'from_embeddings', 'from_texts', 'index', 'index_to_docstore_id', 'load_local', 'max_marginal_relevance_search', 'max_marginal_relevance_search_by_vector', 'max_marginal_relevance_search_with_score_by_vector', 'merge_from', 'override_relevance_score_fn', 'save_local', 'search', 'serialize_to_bytes', 'similarity_search', 'similarity_search_by_vector', 'similarity_search_with_relevance_scores', 'similarity_search_with_score', 'similarity_search_with_score_by_vector']\n"
     ]
    }
   ],
   "source": [
    "print(dir(db))"
   ]
  },
  {
   "cell_type": "markdown",
   "metadata": {},
   "source": [
    "## 01. similarity search"
   ]
  },
  {
   "cell_type": "code",
   "execution_count": 7,
   "metadata": {},
   "outputs": [
    {
     "data": {
      "text/plain": [
       "[Document(page_content=\"24. 1. 4. 오전  10:49 L2 fee - (current) User Guide\\nhttps://tokamaknetwork.gitbook.io/home/02-service-guide/titan/user-guide/l2-fee 1/1L2 fee\\nThis document outlines the calculation process for transaction fees on Titan, emphasizing their lower\\ncost compared to Ethereum.\\nTitan's transaction fees are determined by adding two components together:\\nL2 execution fee\\nL1 security fee\\nL2 execution fee\\ntx.gasPrice * l2GasUsed\\nThe L2 execution fee refers to the fee incurred when a user's transaction is processed within the\\nTitan layer2 network. It follows a calculation method shown above, identical to the standard\\nEthereum transaction fee computation. However, the distinction lies in the fact that the gas price on\\nTitan is significantly lower compared to Ethereum.\\nL1 security fee\\nl1_base_fee * (tx_data_gas + overhaed) * scalar\\nThe L1 security fee is an essential fee required in the context of Optimistic Rollup. With Optimistic\\nRollup, all L2 transactions are uploaded to L1 to ensure data availability. \\nTo transmit these rollup transactions to L1, a portion of the L2 transaction fee is used for the L1\\ntransaction fee. While the rollup transaction includes the calldata  of all L2 transactions, it's\\nimportant to note that L2 transactions are not directly executed in L1. \\nConsequently, only the intrinsic gas generated when incorporating the L2 transaction calldata\\ninto the rollup transaction is calculated. The term tx_data_gas  mentioned earlier refers to this,\\nand its calculation is as follows.\\ntx_data_gas = count_zero_bytes(tx_data) * 4 + count_non_zero_bytes(tx_data) * 16\\nThe l1_base_fee  represents the base fee of L1, which is the amount of ETH required for the\\nrollup transaction. \\nTitan continuously monitors the Ethereum base fee fluctuations; whenever there is a substantial\\nchange, a new l1_base_fee  is stored in the L2 OVM_GasPriceOracle  contract.\\nThe overhead  is calculated in gas units and is assigned a relatively small value. scalar is the\\nweight multiplied for the L1 security fee.\", metadata={'source': 'data/L2 fee.pdf', 'page': 0}),\n",
       " Document(page_content='24. 1. 4. 오전  11:01 Titan-Goerli L2 Testnet Dev Document\\nhttps://onther.notion.site/Titan-Goerli-L2-Testnet-Dev-Document-5023767f30754d21876b049da68f0128 6/6•Uniswap V3 Liquidity Pool\\nTitan Testnet (Goerli)Pool Name\\nDarius L2\\nGoerli L1 Note\\nTON / ETH \\n0x562379E1253e0ca95A\\n05320DB14b3108e5F277\\n3f (WTON/ETH) \\n0x9EF32Ae2acAF1055\\n57DB0E98E68c6CD4f1\\nA1aE63 Darius supports\\nTON/ETH, and Goerli\\nsupports WTON/ETH \\nTOS / ETH\\n0x3760848Dd280F9Ab35\\n3A5798B66c37388224c4\\n35\\n0x3B466f5d9b49AED\\nd65F6124D5986A9F3\\n0B1f5442\\nTON / TOS\\n0x6E090b1C07f22730332\\n6D26963a2389823782C\\nF3 (WTON/TOS) \\n0x8DF54aDA313293E\\n80634f981820969BE7\\n542CEe9 Darius supports\\nTON/TOS, and Goerli\\nsupports WTON/TOS \\nAURA / TOS\\n0xc43B4D505D4D441bac\\n8B26bd068210ECB4376\\nD89\\n0x7674d91d3D2c75Eef\\n6330F1f58F1cE416Bb3\\n86e5\\nLYDA / TOS\\n0x53aFc711cE3C1fc69764\\naAc9565995557970F0Bf\\n0x5E08aFf63d2B6B80\\na74d6C3dBC8B36099\\nAF6d11E', metadata={'source': 'data/Titan-Goerli L2 Testnet Dev Document.pdf', 'page': 5}),\n",
       " Document(page_content='24. 1. 4. 오후  1:02 Gas Estimation - (current) User Guide\\nhttps://tokamaknetwork.gitbook.io/home/v/kor/02-service-guide/titan/developer-guide/gas-estimation 1/3Gas Estimation\\nTitan의 생태계를  구성하는  어플리케이션을  개발하는  빌더들은  Titan SDK 를  이용하여  L2 에서  발생하는  트랜잭션  비용\\n을 미리 산출해볼  수  있습니다 .\\nL2 트랜잭션  비용은  ‘L2 execution fee + L1 security feeʼ 로  계산할  수  있습니다 . 각각에  대한  설명은  아래와  같습니\\n다. Titan 의  Optimistic Rollup 은  L2 에서  발생한  트랜잭션을  L1 에  롤업하여  L2 네트워크의  보안  강도를  높여주는  구조\\n를 채택하기  때문에  L2 execution fee 외에도  L1 security fee 가  발생합니다 .\\nL2 execution fee = L2 gas price * L2 gas used (L2 gas used 는  L2 의  gasLimit 이하이어야  함 )\\nL1 security fee = L1 gas price * L1 gas used * L1 fee scalar\\nL1 fee scalar: L1 트랜잭션에  대한  가스비에  적용되는  배율  인수 . 가스  가격이  급격하게  변동하는  상황에서  L1\\nfee scalar 를  조정함으로써  현재  네트워크  조건에  동적으로  적응하고  거래  비용을  최적화할  수  있음\\nGas estimation using Titan SDK\\nL2 트랜잭션  수수료에  대한  더  자세한  내용은  \"L2 fee\" 을 참고해주세요 . 섹션\\n본 섹션에서는  예제  코드를  통해  Titan SDK 로  L2 트랜잭션의  가스비를  산출하는  방법을  알아보겠습니다 . 산출한  가\\n스비와 실제  소모된  가스비를  서로  비교하여  얼마나  차이가  나는지  확인합니다 .\\n직접 Titan SDK 로  L2 트랜잭션  가스비를  계산할  수  있는  예제  코드는  에서 확인할  수  있습니다 . 여기\\nTitan SDK 와  ethers, dotenv, fs 라이브러리를  import 합니다 . dotenv 라이브러리는  프로젝트의  root 디렉토리\\n내 .env 파일을  읽어  환경  변수로  사용하는  기능을  지원합니다 .\\nconst ethers = require(\"ethers\" )\\nconst titanSDK = require(\"@tokamak-network/titan-sdk\" )\\nrequire(\\'dotenv\\' ).config()\\nL2 네트워크에서  서명을  생성하고  트랜잭션을  전송하기  위해  ethers 라이브러리를  이용하여  provider 와  wallet 인\\n스턴스를 생성합니다 .\\nl2RpcProvider : L2 네트워크를  위한  ethers.providers.JsonRpcProvider  인스턴스\\nl2Wallet : ethers.Wallet 을 사용하여  L2 네트워크의  지갑을  생성\\nconst l2RpcProvider = titanSDK .asL2Provider (\\n  new ethers.providers .JsonRpcProvider (endpointUrl )\\n)\\nconst l2Wallet = new ethers.Wallet(addHexPrefix (privateKey ), l2RpcProvider )\\nTitan SDK 를  사용하여  가스  추정을  수행하는  함수  getEstimates() 를  정의합니다 . provider 는 Ethereum 공\\n급자(provider) 객체이고 , tx는 추정할 트랜잭션의  객체입니다 .\\nestimateTotalGasCost(): estimateL1GasCost() 의  리턴값과  estimateL2GasCost() 의  리턴값을  더하여\\n총 가스비를  Wei 단위로  산출\\nestimateL1GasCost(): L1 에서  발생하는  가스비를  계산하여  Wei 단위로  산출\\nestimateL2GasCost(): L2 에서  발생하는  가스비를  계산하여  Wei 단위로  산출\\nestimateL1Gas(): L1 에서  사용한  가스의  양  (L1 gas used) 를  계산\\n// Get estimates from the SDK\\nconst getEstimates = async (provider , tx) => {\\n  return {\\n    totalCost : await provider .estimateTotalGasCost (tx),\\n    l1Cost : await provider .estimateL1GasCost (tx),\\n    l2Cost : await provider .estimateL2GasCost (tx),\\n    l1Gas : await provider .estimateL1Gas (tx)\\n  }', metadata={'source': 'data/Gas Estimation_KR.pdf', 'page': 0}),\n",
       " Document(page_content='24. 1. 4. 오전  11:01 Titan-Goerli L2 Testnet Dev Document\\nhttps://onther.notion.site/Titan-Goerli-L2-Testnet-Dev-Document-5023767f30754d21876b049da68f0128 5/6•Token Lists\\nToken Name\\nDarius L2\\nGoerli L1 Note\\nTON\\n0x7c6b91D9Be155A6D\\nb01f749217d76fF02A7\\n227F2\\n0x68c1F9620aeC7F29\\n13430aD6daC1bb16D8\\n444F00\\nWTON Not supported0xe86fCf5213C785AcF\\n9a8BFfEeDEfA9a2199f\\n7Da6\\nTOS\\n0x50c5725949A6F0c7\\n2E6C4a641F24049A91\\n7DB0Cb\\n0x67F3bE272b1913602\\nB191B3A68F7C238A2D\\n81Bb9\\nUSDC\\n0x713733bda7F5f9C15\\nfd164242dF4d6292B4\\n12bAE\\n0x07865c6e87b9f702\\n55377e024ace6630c1\\neaa37f\\nWETH (Native)\\n0x420000000000000\\n00000000000000000\\n00000006\\n0xB4FBF271143F4FBf7\\nB91A5ded31805e42b2\\n208d6 This is the native WETH\\non Darius\\nWETH (Uniswap\\nv3) \\n0x04C91015CC8910B0\\n31F2399E04802b51bf\\n6582A1N/A The current forked\\nUniswap V3 uses this\\naddress for WETH. This\\nwill be replaced with\\nnative WETH.\\nDOC\\n0x9e1028F5F1D5eDE5\\n9748FFceE553250997\\n6840E0\\n0x020A7c41212057B2\\nA880191c07F7c7C7a71\\na8b57\\nAURA\\n0x3e7eF8f50246f7258\\n85102E8238CBba33F2\\n76747\\n0x80Eea029B5Cdb8A2\\n15Ae78e20B4fF81607F\\n44A38\\nLYDA\\n0x3bB4445D30AC020\\na84c1b5A8A2C6248eb\\nC9779D0\\n0x51C5E2D3dc8Ee66D\\nffdb1747dEB20d6b326\\nE8bF2\\nUSDC\\n0x9c53338c48181035\\nD96884946C34ea8181\\n8F743C\\n0x07865c6E87B9F702\\n55377e024ace6630C1\\nEaa37F\\nUSDT\\n0xd1e405F1154BE88a\\nC84f748C1BcE22442B\\n12309F\\n0xfad6367E97217cC51\\nb4cd838Cc086831f81\\nd38C2\\n Goerli USDT\\nused in cross layer\\ntransfer\\nhttps://faucet.goerli.line\\na.build/', metadata={'source': 'data/Titan-Goerli L2 Testnet Dev Document.pdf', 'page': 4})]"
      ]
     },
     "execution_count": 7,
     "metadata": {},
     "output_type": "execute_result"
    }
   ],
   "source": [
    "# similarity_search(query) 메소드를 이용 : SQL언어가 아닌 자연어인 query와 가장 유사한 문서를 찾아냄\n",
    "query = 'fee'\n",
    "docs_result = db.similarity_search(query)\n",
    "docs_result"
   ]
  },
  {
   "cell_type": "code",
   "execution_count": 9,
   "metadata": {},
   "outputs": [
    {
     "name": "stderr",
     "output_type": "stream",
     "text": [
      "/Users/eugene/opt/anaconda3/envs/LLM/lib/python3.10/site-packages/langchain_core/_api/deprecation.py:117: LangChainDeprecationWarning: The class `langchain_community.llms.openai.OpenAI` was deprecated in langchain-community 0.0.10 and will be removed in 0.2.0. An updated version of the class exists in the langchain-openai package and should be used instead. To use it run `pip install -U langchain-openai` and import as `from langchain_openai import OpenAI`.\n",
      "  warn_deprecated(\n"
     ]
    }
   ],
   "source": [
    "###########################################\n",
    "#      db검색을 위한 retriever 객체를 생성      #\n",
    "###########################################\n",
    "retriever = db.as_retriever()\n",
    "\n",
    "\n",
    "#############################################################################\n",
    "#                  chain 모델 생성 : (llm, retriver)를  연결                    #\n",
    "#############################################################################\n",
    "# LLM : 사용자의 자연어를 retriever로 전달하고, retriever의 결과를 사용자에게 자연어로 반환\n",
    "# OpenAI(model=\"gpt-3.5-turbo-instruct\") 처럼 ()안에 사용할 모델을 명시하지 않으면 text-davinci-003을 사용하는데, 이는 legacy model이라 헌재 지원안됨\n",
    "# 따라서 OpenAI(model=\"gpt-3.5-turbo-instruct\") 처럼 ()안에 사용할 모델을 명시해야 함\n",
    "# 지시사항을 수행하는 용도인 InstructGPT을 선택해야 하며, 대화용도의 ChatGPT 모델을 선택하면 안됨\n",
    "model = RetrievalQAWithSourcesChain.from_chain_type(llm=OpenAI(model=\"gpt-3.5-turbo-instruct\"), chain_type=\"stuff\", retriever=retriever)"
   ]
  },
  {
   "cell_type": "code",
   "execution_count": 10,
   "metadata": {},
   "outputs": [
    {
     "name": "stderr",
     "output_type": "stream",
     "text": [
      "/Users/eugene/opt/anaconda3/envs/LLM/lib/python3.10/site-packages/langchain_core/_api/deprecation.py:117: LangChainDeprecationWarning: The function `__call__` was deprecated in LangChain 0.1.0 and will be removed in 0.2.0. Use invoke instead.\n",
      "  warn_deprecated(\n"
     ]
    },
    {
     "name": "stdout",
     "output_type": "stream",
     "text": [
      "Answer:   \n",
      "1. Chrome으로 후 로그인 https://www.google.com/ \n",
      "2. 로그인 후 오른쪽 상단 버튼 클릭\n",
      "3. 확장프로그램 클릭\n",
      "4. Chrome 웹 스토어 방문하기 클릭\n",
      "5. 스토어 검색을 클릭 후 MetaMask를 검색한다.\n",
      "6. 'Chrome 에 추가' 버튼을 클릭한다.\n",
      "7. MetaMask 설치 후 오른쪽 상단 버튼 클릭\n",
      "8. 확장프로그램 클릭\n",
      "9. 확장 프로그램 관리 클릭\n",
      "10. 네트워크 전환버튼을 클릭하면 Titan Mainnet 네트워크가 추가된 것을 확인할 수 있다.\n",
      "\n",
      "Source data/Add Titan Network in Metamask_KR.pdf\n"
     ]
    }
   ],
   "source": [
    "question = \"metamask에 titan 네트워크를 추가하는 방법을 순서와 함께 상세히 알려주세요. \"\n",
    "\n",
    "# model() 메소드는 langchain 라이브러리의 RetrievalQAWithSourcesChain 클래스의 인스턴스 메서드\n",
    "# 질의응답, context 등은 dictionary 자료형임\n",
    "response = model({\"question\": question}, return_only_outputs=True)\n",
    "print(\"Answer: \", response['answer'])\n",
    "print(\"Source\", response['sources'])"
   ]
  },
  {
   "cell_type": "markdown",
   "metadata": {},
   "source": [
    "## 02. Saving & loading"
   ]
  },
  {
   "cell_type": "code",
   "execution_count": 11,
   "metadata": {},
   "outputs": [],
   "source": [
    "#################################################\n",
    "#     생성된 db를 로컬에 영구저장 : save_local()      #\n",
    "#################################################\n",
    "\n",
    "# vector bd 저장폴더\n",
    "vector_directory = \"test_vectordb\"\n",
    "# FAISS.save_local 메소드는 \"test_vectordb\" 폴더가 없으면 error 출력대신 해당폴더를 생성한다는 장점이 있다\n",
    "# 해당폴더안에 기존의 index.faiss, index.pkl 파일이 있는 경우에는 덮어쓴다\n",
    "db.save_local(vector_directory)"
   ]
  },
  {
   "cell_type": "code",
   "execution_count": 25,
   "metadata": {},
   "outputs": [],
   "source": [
    "#######################################################\n",
    "#       로컬에 저장된 DB를 불러오기 FAISS.load_local()      #\n",
    "#######################################################\n",
    "\n",
    "# (step 1: loading) 로컬 DB를 메모리에 로딩\n",
    "db_loaded = FAISS.load_local(vector_directory, embeddings) #s aving, loading 둘다 폴더명을 인자로 받는다는 점을 주의해야 함 (파일명 x)\n",
    "\n",
    "# (step 2: retriever 업데이트)\n",
    "retriever_local = db.as_retriever()\n",
    "\n",
    "# (step 3: chain 모델 업데이트)\n",
    "model_local = RetrievalQAWithSourcesChain.from_chain_type(llm=OpenAI(model=\"gpt-3.5-turbo-instruct\"), chain_type=\"stuff\", retriever=retriever_local)"
   ]
  },
  {
   "cell_type": "code",
   "execution_count": 26,
   "metadata": {},
   "outputs": [
    {
     "data": {
      "text/plain": [
       "langchain_community.vectorstores.faiss.FAISS"
      ]
     },
     "execution_count": 26,
     "metadata": {},
     "output_type": "execute_result"
    }
   ],
   "source": [
    "type(db_loaded)"
   ]
  },
  {
   "cell_type": "code",
   "execution_count": 28,
   "metadata": {},
   "outputs": [
    {
     "name": "stdout",
     "output_type": "stream",
     "text": [
      "Size of db_local: 48 bytes\n",
      "Size of db: 48 bytes\n"
     ]
    }
   ],
   "source": [
    "# db가 제대로 저장되었는지, 변경되었는지 파악하기 위해서 size를 측정해보는 것이 좋다\n",
    "import sys\n",
    "size_1 = sys.getsizeof(db_loaded)\n",
    "size_2 = sys.getsizeof(db)\n",
    "print(\"Size of db_loaded:\", size_1, \"bytes\")\n",
    "print(\"Size of db:\", size_2, \"bytes\")\n"
   ]
  },
  {
   "cell_type": "code",
   "execution_count": 29,
   "metadata": {},
   "outputs": [
    {
     "name": "stdout",
     "output_type": "stream",
     "text": [
      "['_FAISS__add', '_FAISS__from', '__abstractmethods__', '__class__', '__delattr__', '__dict__', '__dir__', '__doc__', '__eq__', '__format__', '__ge__', '__getattribute__', '__gt__', '__hash__', '__init__', '__init_subclass__', '__le__', '__lt__', '__module__', '__ne__', '__new__', '__reduce__', '__reduce_ex__', '__repr__', '__setattr__', '__sizeof__', '__slots__', '__str__', '__subclasshook__', '__weakref__', '_abc_impl', '_aembed_documents', '_aembed_query', '_asimilarity_search_with_relevance_scores', '_cosine_relevance_score_fn', '_embed_documents', '_embed_query', '_euclidean_relevance_score_fn', '_get_retriever_tags', '_max_inner_product_relevance_score_fn', '_normalize_L2', '_select_relevance_score_fn', '_similarity_search_with_relevance_scores', 'aadd_documents', 'aadd_texts', 'add_documents', 'add_embeddings', 'add_texts', 'adelete', 'afrom_documents', 'afrom_embeddings', 'afrom_texts', 'amax_marginal_relevance_search', 'amax_marginal_relevance_search_by_vector', 'amax_marginal_relevance_search_with_score_by_vector', 'as_retriever', 'asearch', 'asimilarity_search', 'asimilarity_search_by_vector', 'asimilarity_search_with_relevance_scores', 'asimilarity_search_with_score', 'asimilarity_search_with_score_by_vector', 'delete', 'deserialize_from_bytes', 'distance_strategy', 'docstore', 'embedding_function', 'embeddings', 'from_documents', 'from_embeddings', 'from_texts', 'index', 'index_to_docstore_id', 'load_local', 'max_marginal_relevance_search', 'max_marginal_relevance_search_by_vector', 'max_marginal_relevance_search_with_score_by_vector', 'merge_from', 'override_relevance_score_fn', 'save_local', 'search', 'serialize_to_bytes', 'similarity_search', 'similarity_search_by_vector', 'similarity_search_with_relevance_scores', 'similarity_search_with_score', 'similarity_search_with_score_by_vector']\n"
     ]
    }
   ],
   "source": [
    "# dir()은 객체가 가지고 있는 속성과 메소드를 확인하는데 사용\n",
    "# dir()조차도 객체가 가지고 있는 메소드 중의 하나\n",
    "print(dir(db_loaded))"
   ]
  },
  {
   "cell_type": "markdown",
   "metadata": {},
   "source": [
    "## 03. View documenents\n",
    "\n",
    "FAISS.from_documents(docs, embeddings) 생성자를 통해 생성된 FAISS 객체의 자료구조를 확인 --> vectorstore update에 필요"
   ]
  },
  {
   "cell_type": "code",
   "execution_count": 33,
   "metadata": {},
   "outputs": [
    {
     "name": "stdout",
     "output_type": "stream",
     "text": [
      "<class 'dict'>\n",
      "dict_keys(['56128eb0-5efb-4997-9d88-380fd9e2e26d', 'd42f6dc2-ae7b-4a9b-b1d8-c29906ce4854', '70d28565-4b94-4e57-8068-59e44275c71a', 'f1d0e247-ff48-4cc2-8d92-146b2f361220', 'cc0f7cbb-db3d-4dd1-a4c0-0d4c20fe45f2', '81036f5a-80c4-4f8a-9d11-d71d533a7467', '26490426-5872-4ddf-b575-cc21a4aaa1d2', '412a19be-6e1e-47cb-a5ae-9c87b7c8d8a3', '73e366fc-4c95-48a0-8a30-0ec63b077be6', 'ab1f1481-bd0c-4691-aed6-46aba5fe7247', '477fee71-7ecb-4553-8d2b-d597c3d5cebb', '141c6846-14d4-41ad-9330-b678f28fa953', '14fed7c0-8cd5-4722-bd0f-e3152f38b19d', 'fc8351ca-0112-4f72-9022-06e8d7196f43', '26cad568-aeea-47a0-998e-56ba93294a5c', '629da11c-5c08-49c4-992c-4b65339be784', '9d3e8111-c698-4453-acf7-42f886e217ce', '06fb8768-aa5f-4c7d-ae65-6a130602281e', '2a149bb0-a266-4b0b-a1f0-d9a4f1d2249f', '47a0640c-02c1-4c4f-a4d2-1c708e9309ae', '84b34354-9b83-4c48-8527-04bf0065eabb', 'c486672d-f426-4573-a499-a5cfddaeed7f', 'af07b92e-45cd-4bb9-8183-088c19c6dc48', '33ee3f97-f0f2-48c5-8078-e372d2ffd4cf', '184508b9-6b73-40c8-b3fa-c68733e11c4d', '11042118-16e8-4244-b7f4-843ca9241e91', '32914d73-1594-4d9b-b83e-7dea2a449764', '81a62065-88a6-4a47-9d5a-ab6f45e3366f', 'd9d5e44a-9fd8-4983-8873-e47a6dfd6ba0', 'fa7d4c7b-42a0-4cdb-b634-17b506d3b364', '595060f1-c6f5-42e0-b2c7-8b43212d05cb', 'cb53feb1-9294-4e84-890b-0c4fbbdc9f30', '616406a6-0d25-49ae-bf28-0bddb5f83a2a'])\n"
     ]
    }
   ],
   "source": [
    "#####################################\n",
    "#      vector db를 딕셔너리로 추출       #\n",
    "#####################################\n",
    "\n",
    "# vector db에 저장된 문서 전체를 추출해주는 docstore 객체\n",
    "# docstore._dict 메소드를 사용하면 dictionary 자료형으로 추출\n",
    "print(type(db.docstore._dict))\n",
    "\n",
    "# 덕셔너리로 추출된 db --> 개별문서에서 chunking된 덩어리 (각 덩어리가 key, value 쌍으로 들어있음)\n",
    "# key = 해당 chunk의 id\n",
    "# value = 해당 chunk의 원래 문서의 제목, 문서에서의 페이지 등이 여러 개의 하위 dictionary로 저장됨\n",
    "print(db.docstore._dict.keys())"
   ]
  },
  {
   "cell_type": "code",
   "execution_count": 17,
   "metadata": {},
   "outputs": [],
   "source": [
    "#################################################\n",
    "#         vector db를 dataframe으로 변환           #\n",
    "#################################################\n",
    "\n",
    "# vectorstore를 dataframe으로 변환 및 DB내 문서리스트 화면출력\n",
    "def show_vstore(_store):\n",
    "    vector_df = store_to_df(_store)\n",
    "    display(vector_df)\n",
    "\n",
    "# vectorstore를 dataframe으로 변환\n",
    "def store_to_df(_store):\n",
    "    #  docstore속성의 하위 속성인 _dict 속성을 이용하여 dictionary형으로 db전체를 추출\n",
    "    v_dict = _store.docstore._dict\n",
    "    print(type(v_dict)) # v_dict는 dictionary형\n",
    "    data_rows = []\n",
    "\n",
    "    # 추출된 v_db 딕셔너리는 많은 자료로 구성 --> 필요한 것만 key, value 쌍으로 추출하여 단순한 dictionary로 변환\n",
    "    # v_dict의 key값은 db에 저장된 개별문서의 id값\n",
    "    for k in v_dict.keys():\n",
    "        # metadata는 vectorstore의 일부로서, 그 안에는 사전(dictionary) 형태의 데이터 구조를 가짐\n",
    "        doc_name = v_dict[k].metadata['source'].split('/')[-1]\n",
    "        page_number = v_dict[k].metadata['page']+1\n",
    "        content = v_dict[k].page_content\n",
    "        # k값에 대한 key를 chunk_id로 작명\n",
    "        # 기타 3개의 값에도 key를 부여하여 dictionary로 완성 --> 데이터프레임 자료형인 data_rows에 추가\n",
    "        data_rows.append({'chunk_id': k, 'document': doc_name, 'page': page_number, 'content': content})\n",
    "    vector_df = pd.DataFrame(data_rows)\n",
    "    return vector_df # 데이터프레임으로 변환된 vector db\n",
    "\n",
    "# '''\n",
    "# metadata는 faiss의 데이터 구조인 vectorstore의 일부로서, 그 안에는 사전(dictionary) 형태로 각 문서가 key, value 쌍으로 들어가 있음\n",
    "# 사전의 key, value구조를 통해 문서의 출처(source), 페이지 번호(page)와 같은 문서에 대한 중요한 정보를 포함\n",
    "# 이 정보를 통해 각 데이터 항목이 어디에서 왔는지, 어떤 특성을 가지고 있는지 등을 파악할 수 있습니다.\n",
    "# '''"
   ]
  },
  {
   "cell_type": "code",
   "execution_count": 39,
   "metadata": {},
   "outputs": [
    {
     "name": "stdout",
     "output_type": "stream",
     "text": [
      "<class 'dict'>\n"
     ]
    },
    {
     "data": {
      "text/html": [
       "<div>\n",
       "<style scoped>\n",
       "    .dataframe tbody tr th:only-of-type {\n",
       "        vertical-align: middle;\n",
       "    }\n",
       "\n",
       "    .dataframe tbody tr th {\n",
       "        vertical-align: top;\n",
       "    }\n",
       "\n",
       "    .dataframe thead th {\n",
       "        text-align: right;\n",
       "    }\n",
       "</style>\n",
       "<table border=\"1\" class=\"dataframe\">\n",
       "  <thead>\n",
       "    <tr style=\"text-align: right;\">\n",
       "      <th></th>\n",
       "      <th>chunk_id</th>\n",
       "      <th>document</th>\n",
       "      <th>page</th>\n",
       "      <th>content</th>\n",
       "    </tr>\n",
       "  </thead>\n",
       "  <tbody>\n",
       "    <tr>\n",
       "      <th>0</th>\n",
       "      <td>56128eb0-5efb-4997-9d88-380fd9e2e26d</td>\n",
       "      <td>L2 fee.pdf</td>\n",
       "      <td>1</td>\n",
       "      <td>24. 1. 4. 오전  10:49 L2 fee - (current) User Gu...</td>\n",
       "    </tr>\n",
       "    <tr>\n",
       "      <th>1</th>\n",
       "      <td>d42f6dc2-ae7b-4a9b-b1d8-c29906ce4854</td>\n",
       "      <td>What is different_KR.pdf</td>\n",
       "      <td>1</td>\n",
       "      <td>24. 1. 4. 오후  1:01 What is different - (curren...</td>\n",
       "    </tr>\n",
       "    <tr>\n",
       "      <th>2</th>\n",
       "      <td>70d28565-4b94-4e57-8068-59e44275c71a</td>\n",
       "      <td>What is different_KR.pdf</td>\n",
       "      <td>2</td>\n",
       "      <td>24. 1. 4. 오후  1:01 What is different - (curren...</td>\n",
       "    </tr>\n",
       "    <tr>\n",
       "      <th>3</th>\n",
       "      <td>f1d0e247-ff48-4cc2-8d92-146b2f361220</td>\n",
       "      <td>Developer Guide - (current) User Guide.pdf</td>\n",
       "      <td>1</td>\n",
       "      <td>24. 1. 4. 오전  10:50 Developer Guide - (current...</td>\n",
       "    </tr>\n",
       "    <tr>\n",
       "      <th>4</th>\n",
       "      <td>cc0f7cbb-db3d-4dd1-a4c0-0d4c20fe45f2</td>\n",
       "      <td>Add Titan Network in Metamask_KR.pdf</td>\n",
       "      <td>1</td>\n",
       "      <td>24. 1. 4. 오후  12:58 Add Titan Network in Metam...</td>\n",
       "    </tr>\n",
       "    <tr>\n",
       "      <th>5</th>\n",
       "      <td>81036f5a-80c4-4f8a-9d11-d71d533a7467</td>\n",
       "      <td>Add Titan Network in Metamask_KR.pdf</td>\n",
       "      <td>2</td>\n",
       "      <td>24. 1. 4. 오후  12:58 Add Titan Network in Metam...</td>\n",
       "    </tr>\n",
       "    <tr>\n",
       "      <th>6</th>\n",
       "      <td>26490426-5872-4ddf-b575-cc21a4aaa1d2</td>\n",
       "      <td>Add Titan Network in Metamask_KR.pdf</td>\n",
       "      <td>3</td>\n",
       "      <td>24. 1. 4. 오후  12:58 Add Titan Network in Metam...</td>\n",
       "    </tr>\n",
       "    <tr>\n",
       "      <th>7</th>\n",
       "      <td>412a19be-6e1e-47cb-a5ae-9c87b7c8d8a3</td>\n",
       "      <td>Add Titan Network in Metamask_KR.pdf</td>\n",
       "      <td>4</td>\n",
       "      <td>24. 1. 4. 오후  12:58 Add Titan Network in Metam...</td>\n",
       "    </tr>\n",
       "    <tr>\n",
       "      <th>8</th>\n",
       "      <td>73e366fc-4c95-48a0-8a30-0ec63b077be6</td>\n",
       "      <td>Add Titan Network in Metamask_KR.pdf</td>\n",
       "      <td>5</td>\n",
       "      <td>24. 1. 4. 오후  12:58 Add Titan Network in Metam...</td>\n",
       "    </tr>\n",
       "    <tr>\n",
       "      <th>9</th>\n",
       "      <td>ab1f1481-bd0c-4691-aed6-46aba5fe7247</td>\n",
       "      <td>Add Titan Network in Metamask_KR.pdf</td>\n",
       "      <td>6</td>\n",
       "      <td>24. 1. 4. 오후  12:58 Add Titan Network in Metam...</td>\n",
       "    </tr>\n",
       "    <tr>\n",
       "      <th>10</th>\n",
       "      <td>477fee71-7ecb-4553-8d2b-d597c3d5cebb</td>\n",
       "      <td>Add Titan Network in Metamask_KR.pdf</td>\n",
       "      <td>7</td>\n",
       "      <td>24. 1. 4. 오후  12:58 Add Titan Network in Metam...</td>\n",
       "    </tr>\n",
       "    <tr>\n",
       "      <th>11</th>\n",
       "      <td>141c6846-14d4-41ad-9330-b678f28fa953</td>\n",
       "      <td>Add Titan Network in Metamask_KR.pdf</td>\n",
       "      <td>8</td>\n",
       "      <td>24. 1. 4. 오후  12:58 Add Titan Network in Metam...</td>\n",
       "    </tr>\n",
       "    <tr>\n",
       "      <th>12</th>\n",
       "      <td>14fed7c0-8cd5-4722-bd0f-e3152f38b19d</td>\n",
       "      <td>Add Titan Network in Metamask_KR.pdf</td>\n",
       "      <td>9</td>\n",
       "      <td>24. 1. 4. 오후  12:58 Add Titan Network in Metam...</td>\n",
       "    </tr>\n",
       "    <tr>\n",
       "      <th>13</th>\n",
       "      <td>fc8351ca-0112-4f72-9022-06e8d7196f43</td>\n",
       "      <td>Add Titan Network in Metamask_KR.pdf</td>\n",
       "      <td>10</td>\n",
       "      <td>24. 1. 4. 오후  12:58 Add Titan Network in Metam...</td>\n",
       "    </tr>\n",
       "    <tr>\n",
       "      <th>14</th>\n",
       "      <td>26cad568-aeea-47a0-998e-56ba93294a5c</td>\n",
       "      <td>Add Titan Network in Metamask_KR.pdf</td>\n",
       "      <td>11</td>\n",
       "      <td>24. 1. 4. 오후  12:58 Add Titan Network in Metam...</td>\n",
       "    </tr>\n",
       "    <tr>\n",
       "      <th>15</th>\n",
       "      <td>629da11c-5c08-49c4-992c-4b65339be784</td>\n",
       "      <td>Add Titan Network in Metamask_KR.pdf</td>\n",
       "      <td>12</td>\n",
       "      <td>24. 1. 4. 오후  12:58 Add Titan Network in Metam...</td>\n",
       "    </tr>\n",
       "    <tr>\n",
       "      <th>16</th>\n",
       "      <td>9d3e8111-c698-4453-acf7-42f886e217ce</td>\n",
       "      <td>Add Titan Network in Metamask_KR.pdf</td>\n",
       "      <td>13</td>\n",
       "      <td>24. 1. 4. 오후  12:58 Add Titan Network in Metam...</td>\n",
       "    </tr>\n",
       "    <tr>\n",
       "      <th>17</th>\n",
       "      <td>06fb8768-aa5f-4c7d-ae65-6a130602281e</td>\n",
       "      <td>Add Titan Network in Metamask_KR.pdf</td>\n",
       "      <td>14</td>\n",
       "      <td>24. 1. 4. 오후  12:58 Add Titan Network in Metam...</td>\n",
       "    </tr>\n",
       "    <tr>\n",
       "      <th>18</th>\n",
       "      <td>2a149bb0-a266-4b0b-a1f0-d9a4f1d2249f</td>\n",
       "      <td>Add Titan Network in Metamask_KR.pdf</td>\n",
       "      <td>15</td>\n",
       "      <td>24. 1. 4. 오후  12:58 Add Titan Network in Metam...</td>\n",
       "    </tr>\n",
       "    <tr>\n",
       "      <th>19</th>\n",
       "      <td>47a0640c-02c1-4c4f-a4d2-1c708e9309ae</td>\n",
       "      <td>Titan-Goerli L2 Testnet Dev Document.pdf</td>\n",
       "      <td>1</td>\n",
       "      <td>24. 1. 4. 오전  11:01 Titan-Goerli L2 Testnet De...</td>\n",
       "    </tr>\n",
       "    <tr>\n",
       "      <th>20</th>\n",
       "      <td>84b34354-9b83-4c48-8527-04bf0065eabb</td>\n",
       "      <td>Titan-Goerli L2 Testnet Dev Document.pdf</td>\n",
       "      <td>2</td>\n",
       "      <td>24. 1. 4. 오전  11:01 Titan-Goerli L2 Testnet De...</td>\n",
       "    </tr>\n",
       "    <tr>\n",
       "      <th>21</th>\n",
       "      <td>c486672d-f426-4573-a499-a5cfddaeed7f</td>\n",
       "      <td>Titan-Goerli L2 Testnet Dev Document.pdf</td>\n",
       "      <td>3</td>\n",
       "      <td>24. 1. 4. 오전  11:01 Titan-Goerli L2 Testnet De...</td>\n",
       "    </tr>\n",
       "    <tr>\n",
       "      <th>22</th>\n",
       "      <td>af07b92e-45cd-4bb9-8183-088c19c6dc48</td>\n",
       "      <td>Titan-Goerli L2 Testnet Dev Document.pdf</td>\n",
       "      <td>4</td>\n",
       "      <td>24. 1. 4. 오전  11:01 Titan-Goerli L2 Testnet De...</td>\n",
       "    </tr>\n",
       "    <tr>\n",
       "      <th>23</th>\n",
       "      <td>33ee3f97-f0f2-48c5-8078-e372d2ffd4cf</td>\n",
       "      <td>Titan-Goerli L2 Testnet Dev Document.pdf</td>\n",
       "      <td>5</td>\n",
       "      <td>24. 1. 4. 오전  11:01 Titan-Goerli L2 Testnet De...</td>\n",
       "    </tr>\n",
       "    <tr>\n",
       "      <th>24</th>\n",
       "      <td>184508b9-6b73-40c8-b3fa-c68733e11c4d</td>\n",
       "      <td>Titan-Goerli L2 Testnet Dev Document.pdf</td>\n",
       "      <td>6</td>\n",
       "      <td>24. 1. 4. 오전  11:01 Titan-Goerli L2 Testnet De...</td>\n",
       "    </tr>\n",
       "    <tr>\n",
       "      <th>25</th>\n",
       "      <td>11042118-16e8-4244-b7f4-843ca9241e91</td>\n",
       "      <td>What is different.pdf</td>\n",
       "      <td>1</td>\n",
       "      <td>24. 1. 4. 오전  10:54 What is different - (curre...</td>\n",
       "    </tr>\n",
       "    <tr>\n",
       "      <th>26</th>\n",
       "      <td>32914d73-1594-4d9b-b83e-7dea2a449764</td>\n",
       "      <td>What is different.pdf</td>\n",
       "      <td>2</td>\n",
       "      <td>24. 1. 4. 오전  10:54 What is different - (curre...</td>\n",
       "    </tr>\n",
       "    <tr>\n",
       "      <th>27</th>\n",
       "      <td>81a62065-88a6-4a47-9d5a-ab6f45e3366f</td>\n",
       "      <td>Gas Estimation_KR.pdf</td>\n",
       "      <td>1</td>\n",
       "      <td>24. 1. 4. 오후  1:02 Gas Estimation - (current) ...</td>\n",
       "    </tr>\n",
       "    <tr>\n",
       "      <th>28</th>\n",
       "      <td>d9d5e44a-9fd8-4983-8873-e47a6dfd6ba0</td>\n",
       "      <td>Gas Estimation_KR.pdf</td>\n",
       "      <td>2</td>\n",
       "      <td>24. 1. 4. 오후  1:02 Gas Estimation - (current) ...</td>\n",
       "    </tr>\n",
       "    <tr>\n",
       "      <th>29</th>\n",
       "      <td>fa7d4c7b-42a0-4cdb-b634-17b506d3b364</td>\n",
       "      <td>Gas Estimation_KR.pdf</td>\n",
       "      <td>3</td>\n",
       "      <td>24. 1. 4. 오후  1:02 Gas Estimation - (current) ...</td>\n",
       "    </tr>\n",
       "    <tr>\n",
       "      <th>30</th>\n",
       "      <td>595060f1-c6f5-42e0-b2c7-8b43212d05cb</td>\n",
       "      <td>Token Address.pdf</td>\n",
       "      <td>1</td>\n",
       "      <td>24. 1. 4. 오전  10:52 Token Addresse - (current)...</td>\n",
       "    </tr>\n",
       "    <tr>\n",
       "      <th>31</th>\n",
       "      <td>cb53feb1-9294-4e84-890b-0c4fbbdc9f30</td>\n",
       "      <td>Token Address.pdf</td>\n",
       "      <td>2</td>\n",
       "      <td>24. 1. 4. 오전  10:52 Token Addresse - (current)...</td>\n",
       "    </tr>\n",
       "    <tr>\n",
       "      <th>32</th>\n",
       "      <td>616406a6-0d25-49ae-bf28-0bddb5f83a2a</td>\n",
       "      <td>Titan_User Guide_01.pdf</td>\n",
       "      <td>1</td>\n",
       "      <td>24. 1. 4. 오전  10:40 Titan - (current) User Gui...</td>\n",
       "    </tr>\n",
       "  </tbody>\n",
       "</table>\n",
       "</div>"
      ],
      "text/plain": [
       "                                chunk_id  \\\n",
       "0   56128eb0-5efb-4997-9d88-380fd9e2e26d   \n",
       "1   d42f6dc2-ae7b-4a9b-b1d8-c29906ce4854   \n",
       "2   70d28565-4b94-4e57-8068-59e44275c71a   \n",
       "3   f1d0e247-ff48-4cc2-8d92-146b2f361220   \n",
       "4   cc0f7cbb-db3d-4dd1-a4c0-0d4c20fe45f2   \n",
       "5   81036f5a-80c4-4f8a-9d11-d71d533a7467   \n",
       "6   26490426-5872-4ddf-b575-cc21a4aaa1d2   \n",
       "7   412a19be-6e1e-47cb-a5ae-9c87b7c8d8a3   \n",
       "8   73e366fc-4c95-48a0-8a30-0ec63b077be6   \n",
       "9   ab1f1481-bd0c-4691-aed6-46aba5fe7247   \n",
       "10  477fee71-7ecb-4553-8d2b-d597c3d5cebb   \n",
       "11  141c6846-14d4-41ad-9330-b678f28fa953   \n",
       "12  14fed7c0-8cd5-4722-bd0f-e3152f38b19d   \n",
       "13  fc8351ca-0112-4f72-9022-06e8d7196f43   \n",
       "14  26cad568-aeea-47a0-998e-56ba93294a5c   \n",
       "15  629da11c-5c08-49c4-992c-4b65339be784   \n",
       "16  9d3e8111-c698-4453-acf7-42f886e217ce   \n",
       "17  06fb8768-aa5f-4c7d-ae65-6a130602281e   \n",
       "18  2a149bb0-a266-4b0b-a1f0-d9a4f1d2249f   \n",
       "19  47a0640c-02c1-4c4f-a4d2-1c708e9309ae   \n",
       "20  84b34354-9b83-4c48-8527-04bf0065eabb   \n",
       "21  c486672d-f426-4573-a499-a5cfddaeed7f   \n",
       "22  af07b92e-45cd-4bb9-8183-088c19c6dc48   \n",
       "23  33ee3f97-f0f2-48c5-8078-e372d2ffd4cf   \n",
       "24  184508b9-6b73-40c8-b3fa-c68733e11c4d   \n",
       "25  11042118-16e8-4244-b7f4-843ca9241e91   \n",
       "26  32914d73-1594-4d9b-b83e-7dea2a449764   \n",
       "27  81a62065-88a6-4a47-9d5a-ab6f45e3366f   \n",
       "28  d9d5e44a-9fd8-4983-8873-e47a6dfd6ba0   \n",
       "29  fa7d4c7b-42a0-4cdb-b634-17b506d3b364   \n",
       "30  595060f1-c6f5-42e0-b2c7-8b43212d05cb   \n",
       "31  cb53feb1-9294-4e84-890b-0c4fbbdc9f30   \n",
       "32  616406a6-0d25-49ae-bf28-0bddb5f83a2a   \n",
       "\n",
       "                                      document  page  \\\n",
       "0                                   L2 fee.pdf     1   \n",
       "1                     What is different_KR.pdf     1   \n",
       "2                     What is different_KR.pdf     2   \n",
       "3   Developer Guide - (current) User Guide.pdf     1   \n",
       "4         Add Titan Network in Metamask_KR.pdf     1   \n",
       "5         Add Titan Network in Metamask_KR.pdf     2   \n",
       "6         Add Titan Network in Metamask_KR.pdf     3   \n",
       "7         Add Titan Network in Metamask_KR.pdf     4   \n",
       "8         Add Titan Network in Metamask_KR.pdf     5   \n",
       "9         Add Titan Network in Metamask_KR.pdf     6   \n",
       "10        Add Titan Network in Metamask_KR.pdf     7   \n",
       "11        Add Titan Network in Metamask_KR.pdf     8   \n",
       "12        Add Titan Network in Metamask_KR.pdf     9   \n",
       "13        Add Titan Network in Metamask_KR.pdf    10   \n",
       "14        Add Titan Network in Metamask_KR.pdf    11   \n",
       "15        Add Titan Network in Metamask_KR.pdf    12   \n",
       "16        Add Titan Network in Metamask_KR.pdf    13   \n",
       "17        Add Titan Network in Metamask_KR.pdf    14   \n",
       "18        Add Titan Network in Metamask_KR.pdf    15   \n",
       "19    Titan-Goerli L2 Testnet Dev Document.pdf     1   \n",
       "20    Titan-Goerli L2 Testnet Dev Document.pdf     2   \n",
       "21    Titan-Goerli L2 Testnet Dev Document.pdf     3   \n",
       "22    Titan-Goerli L2 Testnet Dev Document.pdf     4   \n",
       "23    Titan-Goerli L2 Testnet Dev Document.pdf     5   \n",
       "24    Titan-Goerli L2 Testnet Dev Document.pdf     6   \n",
       "25                       What is different.pdf     1   \n",
       "26                       What is different.pdf     2   \n",
       "27                       Gas Estimation_KR.pdf     1   \n",
       "28                       Gas Estimation_KR.pdf     2   \n",
       "29                       Gas Estimation_KR.pdf     3   \n",
       "30                           Token Address.pdf     1   \n",
       "31                           Token Address.pdf     2   \n",
       "32                     Titan_User Guide_01.pdf     1   \n",
       "\n",
       "                                              content  \n",
       "0   24. 1. 4. 오전  10:49 L2 fee - (current) User Gu...  \n",
       "1   24. 1. 4. 오후  1:01 What is different - (curren...  \n",
       "2   24. 1. 4. 오후  1:01 What is different - (curren...  \n",
       "3   24. 1. 4. 오전  10:50 Developer Guide - (current...  \n",
       "4   24. 1. 4. 오후  12:58 Add Titan Network in Metam...  \n",
       "5   24. 1. 4. 오후  12:58 Add Titan Network in Metam...  \n",
       "6   24. 1. 4. 오후  12:58 Add Titan Network in Metam...  \n",
       "7   24. 1. 4. 오후  12:58 Add Titan Network in Metam...  \n",
       "8   24. 1. 4. 오후  12:58 Add Titan Network in Metam...  \n",
       "9   24. 1. 4. 오후  12:58 Add Titan Network in Metam...  \n",
       "10  24. 1. 4. 오후  12:58 Add Titan Network in Metam...  \n",
       "11  24. 1. 4. 오후  12:58 Add Titan Network in Metam...  \n",
       "12  24. 1. 4. 오후  12:58 Add Titan Network in Metam...  \n",
       "13  24. 1. 4. 오후  12:58 Add Titan Network in Metam...  \n",
       "14  24. 1. 4. 오후  12:58 Add Titan Network in Metam...  \n",
       "15  24. 1. 4. 오후  12:58 Add Titan Network in Metam...  \n",
       "16  24. 1. 4. 오후  12:58 Add Titan Network in Metam...  \n",
       "17  24. 1. 4. 오후  12:58 Add Titan Network in Metam...  \n",
       "18  24. 1. 4. 오후  12:58 Add Titan Network in Metam...  \n",
       "19  24. 1. 4. 오전  11:01 Titan-Goerli L2 Testnet De...  \n",
       "20  24. 1. 4. 오전  11:01 Titan-Goerli L2 Testnet De...  \n",
       "21  24. 1. 4. 오전  11:01 Titan-Goerli L2 Testnet De...  \n",
       "22  24. 1. 4. 오전  11:01 Titan-Goerli L2 Testnet De...  \n",
       "23  24. 1. 4. 오전  11:01 Titan-Goerli L2 Testnet De...  \n",
       "24  24. 1. 4. 오전  11:01 Titan-Goerli L2 Testnet De...  \n",
       "25  24. 1. 4. 오전  10:54 What is different - (curre...  \n",
       "26  24. 1. 4. 오전  10:54 What is different - (curre...  \n",
       "27  24. 1. 4. 오후  1:02 Gas Estimation - (current) ...  \n",
       "28  24. 1. 4. 오후  1:02 Gas Estimation - (current) ...  \n",
       "29  24. 1. 4. 오후  1:02 Gas Estimation - (current) ...  \n",
       "30  24. 1. 4. 오전  10:52 Token Addresse - (current)...  \n",
       "31  24. 1. 4. 오전  10:52 Token Addresse - (current)...  \n",
       "32  24. 1. 4. 오전  10:40 Titan - (current) User Gui...  "
      ]
     },
     "metadata": {},
     "output_type": "display_data"
    }
   ],
   "source": [
    "show_vstore(db)"
   ]
  },
  {
   "cell_type": "code",
   "execution_count": 21,
   "metadata": {},
   "outputs": [
    {
     "name": "stdout",
     "output_type": "stream",
     "text": [
      "Answer:   Add Titan Network in Metamask:\n",
      "1. Open Google Chrome and log in.\n",
      "2. Click on the button in the top right corner.\n",
      "3. Click on \"Extensions.\"\n",
      "4. Click on \"Visit the Chrome Web Store.\"\n",
      "5. In the store, search for \"MetaMask.\"\n",
      "6. Click on \"Add to Chrome.\"\n",
      "7. Verify the installation by clicking on the button in the top right corner.\n",
      "8. Click on \"Extensions.\"\n",
      "9. Click on \"Manage Extensions.\"\n",
      "10. Click on the switch next to \"Developer mode.\"\n",
      "11. Click on \"Load unpacked.\"\n",
      "12. Select the folder where MetaMask is installed.\n",
      "13. Click on \"Titan Network.\"\n",
      "14. Click on the \"Mainnet\" button to switch to the Titan Network.\n",
      "\n",
      "Source data/Add Titan Network in Metamask_KR.pdf\n"
     ]
    }
   ],
   "source": [
    "# 삭제된 파일에 대한 질문 해보기\n",
    "question = \"metamask에 titan 네트워크를 추가하는 방법을 순서와 함께 상세히 알려주세요. \"\n",
    "\n",
    "# model() 메소드는 langchain 라이브러리의 RetrievalQAWithSourcesChain 클래스의 인스턴스 메서드\n",
    "# 질의응답, context 등은 dictionary 자료형임\n",
    "response = model({\"question\": question}, return_only_outputs=True)\n",
    "print(\"Answer: \", response['answer'])\n",
    "print(\"Source\", response['sources'])"
   ]
  },
  {
   "cell_type": "markdown",
   "metadata": {},
   "source": [
    "##### ↑ 원본 pdf 파일은 제거했지만, vector DB는 변경없으므로 질문에 대한 답변이 가능하다"
   ]
  },
  {
   "cell_type": "markdown",
   "metadata": {},
   "source": [
    "## 04. Delete documents from the database\n"
   ]
  },
  {
   "cell_type": "code",
   "execution_count": 45,
   "metadata": {},
   "outputs": [],
   "source": [
    "##################################################################################\n",
    "#                           pdf 삭제(선택 1) :  직접 삭제                             #\n",
    "##################################################################################\n",
    "\n",
    "'''\n",
    "3단계 : 변환 >> 색인 >> 삭제 >> chain 모델 업데이트\n",
    "vector DB를 docstore._dict로 추출한 딕셔너리형 DB는 여러 개의 chunk 덩어리로 구성\n",
    "따라서 chunk 단위가 아니라 문서 단위로 삭제해야 함\n",
    "1. dataframe 메소드를 활용하여 삭제할 문서의 제목으로 검색하여 관련 chunk_id를 모두 색인\n",
    "2. vector DB 메소드를 활용하여 해당 chunk_id를 모두 삭제\n",
    "'''\n",
    "\n",
    "def delete_data(_store,_document): # _document는 \"Gas Estimation_KR.pdf\" 처럼 문서의 제목 텍스트\n",
    "    # 1. 변환 : vector db --> vector df 데이터프레임 자료형\n",
    "    vector_df = store_to_df(_store)\n",
    "    # 삭제할 문서가 여러개의 chunk_id로 나뉘어져 있을 수 있으므로, 이를 모두 삭제해야 함\n",
    "    # 2. 색인 : 삭제할 문서의 이름과 일치하는 문서의 모든 chunk_id만 추출 --> pandas의 tolist()메소드를 이용 --> list자료형으로 chunk_list에 저장\n",
    "    chunk_list = vector_df.loc[vector_df['document']==_document]['chunk_id'].tolist()\n",
    "    # 3. 삭졔 : FAISS 객체의 .delete() 메소드를 이용하여 chunk_list 해당부분 삭제\n",
    "    _store_updated = _store.delete(chunk_list)\n",
    "    # 4. 저장 : 업데이트된 db를 로컬에 저장\n",
    "    _store_updated.save_local(vector_directory)\n",
    "    # 5. 업데이트 : 삭제된 vector db를 이용하여 새로운 chain 객체를 생성하여 model로 저장\n",
    "    update_models(_store_updated)\n",
    "\n",
    "    return _store_updated\n",
    "\n",
    "\n",
    "####################################################################\n",
    "#       (입력) 업데이트된 vector db  --> (출력) 업데이트된 chain 객체       #\n",
    "####################################################################\n",
    "\n",
    "# 4가지 업데이트 : retriever, chain, db_loaded, save_local()\n",
    "def update_models(_store_updated):\n",
    "    # 1. retriever 업데이트\n",
    "    retriever = _store_updated.as_retriever()\n",
    "    # 2. chain 모델 업데이트\n",
    "    model = RetrievalQAWithSourcesChain.from_chain_type(llm=OpenAI(model=\"gpt-3.5-turbo-instruct\"), chain_type=\"stuff\", retriever=retriever)\n",
    "    # 3. 현재 메모리에 로딩된 db_loaded 업데이트\n",
    "    db_loaded = _store_updated\n",
    "    # 4. save_local 업데이트\n",
    "    _store_updated.save_local(vector_directory)\n"
   ]
  },
  {
   "cell_type": "code",
   "execution_count": 61,
   "metadata": {},
   "outputs": [
    {
     "name": "stdout",
     "output_type": "stream",
     "text": [
      "{0: '56128eb0-5efb-4997-9d88-380fd9e2e26d', 1: 'd42f6dc2-ae7b-4a9b-b1d8-c29906ce4854', 2: '70d28565-4b94-4e57-8068-59e44275c71a', 3: 'f1d0e247-ff48-4cc2-8d92-146b2f361220', 4: 'cc0f7cbb-db3d-4dd1-a4c0-0d4c20fe45f2', 5: '81036f5a-80c4-4f8a-9d11-d71d533a7467', 6: '26490426-5872-4ddf-b575-cc21a4aaa1d2', 7: '412a19be-6e1e-47cb-a5ae-9c87b7c8d8a3', 8: '73e366fc-4c95-48a0-8a30-0ec63b077be6', 9: 'ab1f1481-bd0c-4691-aed6-46aba5fe7247', 10: '477fee71-7ecb-4553-8d2b-d597c3d5cebb', 11: '141c6846-14d4-41ad-9330-b678f28fa953', 12: '14fed7c0-8cd5-4722-bd0f-e3152f38b19d', 13: 'fc8351ca-0112-4f72-9022-06e8d7196f43', 14: '26cad568-aeea-47a0-998e-56ba93294a5c', 15: '629da11c-5c08-49c4-992c-4b65339be784', 16: '9d3e8111-c698-4453-acf7-42f886e217ce', 17: '06fb8768-aa5f-4c7d-ae65-6a130602281e', 18: '2a149bb0-a266-4b0b-a1f0-d9a4f1d2249f', 19: '47a0640c-02c1-4c4f-a4d2-1c708e9309ae', 20: '84b34354-9b83-4c48-8527-04bf0065eabb', 21: 'c486672d-f426-4573-a499-a5cfddaeed7f', 22: 'af07b92e-45cd-4bb9-8183-088c19c6dc48', 23: '33ee3f97-f0f2-48c5-8078-e372d2ffd4cf', 24: '184508b9-6b73-40c8-b3fa-c68733e11c4d', 25: '11042118-16e8-4244-b7f4-843ca9241e91', 26: '32914d73-1594-4d9b-b83e-7dea2a449764', 27: '81a62065-88a6-4a47-9d5a-ab6f45e3366f', 28: 'd9d5e44a-9fd8-4983-8873-e47a6dfd6ba0', 29: 'fa7d4c7b-42a0-4cdb-b634-17b506d3b364', 30: '595060f1-c6f5-42e0-b2c7-8b43212d05cb', 31: 'cb53feb1-9294-4e84-890b-0c4fbbdc9f30', 32: '616406a6-0d25-49ae-bf28-0bddb5f83a2a'}\n"
     ]
    }
   ],
   "source": [
    "# index_to_docstore_id 딕셔너리\n",
    "# 키는 인덱스이고 값은 해당 인덱스에 대응되는 문서가 잘게 쪼개진 각각의 chunk_id\n",
    "# 키는 저장시점에서 chunk_id 마다 부여되는 일련번호\n",
    "print(db.index_to_docstore_id)"
   ]
  },
  {
   "cell_type": "code",
   "execution_count": 20,
   "metadata": {},
   "outputs": [
    {
     "name": "stdout",
     "output_type": "stream",
     "text": [
      "<class 'dict'>\n",
      "<class 'dict'>\n"
     ]
    },
    {
     "data": {
      "text/html": [
       "<div>\n",
       "<style scoped>\n",
       "    .dataframe tbody tr th:only-of-type {\n",
       "        vertical-align: middle;\n",
       "    }\n",
       "\n",
       "    .dataframe tbody tr th {\n",
       "        vertical-align: top;\n",
       "    }\n",
       "\n",
       "    .dataframe thead th {\n",
       "        text-align: right;\n",
       "    }\n",
       "</style>\n",
       "<table border=\"1\" class=\"dataframe\">\n",
       "  <thead>\n",
       "    <tr style=\"text-align: right;\">\n",
       "      <th></th>\n",
       "      <th>chunk_id</th>\n",
       "      <th>document</th>\n",
       "      <th>page</th>\n",
       "      <th>content</th>\n",
       "    </tr>\n",
       "  </thead>\n",
       "  <tbody>\n",
       "    <tr>\n",
       "      <th>0</th>\n",
       "      <td>56128eb0-5efb-4997-9d88-380fd9e2e26d</td>\n",
       "      <td>L2 fee.pdf</td>\n",
       "      <td>1</td>\n",
       "      <td>24. 1. 4. 오전  10:49 L2 fee - (current) User Gu...</td>\n",
       "    </tr>\n",
       "    <tr>\n",
       "      <th>1</th>\n",
       "      <td>d42f6dc2-ae7b-4a9b-b1d8-c29906ce4854</td>\n",
       "      <td>What is different_KR.pdf</td>\n",
       "      <td>1</td>\n",
       "      <td>24. 1. 4. 오후  1:01 What is different - (curren...</td>\n",
       "    </tr>\n",
       "    <tr>\n",
       "      <th>2</th>\n",
       "      <td>70d28565-4b94-4e57-8068-59e44275c71a</td>\n",
       "      <td>What is different_KR.pdf</td>\n",
       "      <td>2</td>\n",
       "      <td>24. 1. 4. 오후  1:01 What is different - (curren...</td>\n",
       "    </tr>\n",
       "    <tr>\n",
       "      <th>3</th>\n",
       "      <td>f1d0e247-ff48-4cc2-8d92-146b2f361220</td>\n",
       "      <td>Developer Guide - (current) User Guide.pdf</td>\n",
       "      <td>1</td>\n",
       "      <td>24. 1. 4. 오전  10:50 Developer Guide - (current...</td>\n",
       "    </tr>\n",
       "    <tr>\n",
       "      <th>4</th>\n",
       "      <td>cc0f7cbb-db3d-4dd1-a4c0-0d4c20fe45f2</td>\n",
       "      <td>Add Titan Network in Metamask_KR.pdf</td>\n",
       "      <td>1</td>\n",
       "      <td>24. 1. 4. 오후  12:58 Add Titan Network in Metam...</td>\n",
       "    </tr>\n",
       "    <tr>\n",
       "      <th>5</th>\n",
       "      <td>81036f5a-80c4-4f8a-9d11-d71d533a7467</td>\n",
       "      <td>Add Titan Network in Metamask_KR.pdf</td>\n",
       "      <td>2</td>\n",
       "      <td>24. 1. 4. 오후  12:58 Add Titan Network in Metam...</td>\n",
       "    </tr>\n",
       "    <tr>\n",
       "      <th>6</th>\n",
       "      <td>26490426-5872-4ddf-b575-cc21a4aaa1d2</td>\n",
       "      <td>Add Titan Network in Metamask_KR.pdf</td>\n",
       "      <td>3</td>\n",
       "      <td>24. 1. 4. 오후  12:58 Add Titan Network in Metam...</td>\n",
       "    </tr>\n",
       "    <tr>\n",
       "      <th>7</th>\n",
       "      <td>412a19be-6e1e-47cb-a5ae-9c87b7c8d8a3</td>\n",
       "      <td>Add Titan Network in Metamask_KR.pdf</td>\n",
       "      <td>4</td>\n",
       "      <td>24. 1. 4. 오후  12:58 Add Titan Network in Metam...</td>\n",
       "    </tr>\n",
       "    <tr>\n",
       "      <th>8</th>\n",
       "      <td>73e366fc-4c95-48a0-8a30-0ec63b077be6</td>\n",
       "      <td>Add Titan Network in Metamask_KR.pdf</td>\n",
       "      <td>5</td>\n",
       "      <td>24. 1. 4. 오후  12:58 Add Titan Network in Metam...</td>\n",
       "    </tr>\n",
       "    <tr>\n",
       "      <th>9</th>\n",
       "      <td>ab1f1481-bd0c-4691-aed6-46aba5fe7247</td>\n",
       "      <td>Add Titan Network in Metamask_KR.pdf</td>\n",
       "      <td>6</td>\n",
       "      <td>24. 1. 4. 오후  12:58 Add Titan Network in Metam...</td>\n",
       "    </tr>\n",
       "    <tr>\n",
       "      <th>10</th>\n",
       "      <td>477fee71-7ecb-4553-8d2b-d597c3d5cebb</td>\n",
       "      <td>Add Titan Network in Metamask_KR.pdf</td>\n",
       "      <td>7</td>\n",
       "      <td>24. 1. 4. 오후  12:58 Add Titan Network in Metam...</td>\n",
       "    </tr>\n",
       "    <tr>\n",
       "      <th>11</th>\n",
       "      <td>141c6846-14d4-41ad-9330-b678f28fa953</td>\n",
       "      <td>Add Titan Network in Metamask_KR.pdf</td>\n",
       "      <td>8</td>\n",
       "      <td>24. 1. 4. 오후  12:58 Add Titan Network in Metam...</td>\n",
       "    </tr>\n",
       "    <tr>\n",
       "      <th>12</th>\n",
       "      <td>14fed7c0-8cd5-4722-bd0f-e3152f38b19d</td>\n",
       "      <td>Add Titan Network in Metamask_KR.pdf</td>\n",
       "      <td>9</td>\n",
       "      <td>24. 1. 4. 오후  12:58 Add Titan Network in Metam...</td>\n",
       "    </tr>\n",
       "    <tr>\n",
       "      <th>13</th>\n",
       "      <td>fc8351ca-0112-4f72-9022-06e8d7196f43</td>\n",
       "      <td>Add Titan Network in Metamask_KR.pdf</td>\n",
       "      <td>10</td>\n",
       "      <td>24. 1. 4. 오후  12:58 Add Titan Network in Metam...</td>\n",
       "    </tr>\n",
       "    <tr>\n",
       "      <th>14</th>\n",
       "      <td>26cad568-aeea-47a0-998e-56ba93294a5c</td>\n",
       "      <td>Add Titan Network in Metamask_KR.pdf</td>\n",
       "      <td>11</td>\n",
       "      <td>24. 1. 4. 오후  12:58 Add Titan Network in Metam...</td>\n",
       "    </tr>\n",
       "    <tr>\n",
       "      <th>15</th>\n",
       "      <td>629da11c-5c08-49c4-992c-4b65339be784</td>\n",
       "      <td>Add Titan Network in Metamask_KR.pdf</td>\n",
       "      <td>12</td>\n",
       "      <td>24. 1. 4. 오후  12:58 Add Titan Network in Metam...</td>\n",
       "    </tr>\n",
       "    <tr>\n",
       "      <th>16</th>\n",
       "      <td>9d3e8111-c698-4453-acf7-42f886e217ce</td>\n",
       "      <td>Add Titan Network in Metamask_KR.pdf</td>\n",
       "      <td>13</td>\n",
       "      <td>24. 1. 4. 오후  12:58 Add Titan Network in Metam...</td>\n",
       "    </tr>\n",
       "    <tr>\n",
       "      <th>17</th>\n",
       "      <td>06fb8768-aa5f-4c7d-ae65-6a130602281e</td>\n",
       "      <td>Add Titan Network in Metamask_KR.pdf</td>\n",
       "      <td>14</td>\n",
       "      <td>24. 1. 4. 오후  12:58 Add Titan Network in Metam...</td>\n",
       "    </tr>\n",
       "    <tr>\n",
       "      <th>18</th>\n",
       "      <td>2a149bb0-a266-4b0b-a1f0-d9a4f1d2249f</td>\n",
       "      <td>Add Titan Network in Metamask_KR.pdf</td>\n",
       "      <td>15</td>\n",
       "      <td>24. 1. 4. 오후  12:58 Add Titan Network in Metam...</td>\n",
       "    </tr>\n",
       "    <tr>\n",
       "      <th>19</th>\n",
       "      <td>47a0640c-02c1-4c4f-a4d2-1c708e9309ae</td>\n",
       "      <td>Titan-Goerli L2 Testnet Dev Document.pdf</td>\n",
       "      <td>1</td>\n",
       "      <td>24. 1. 4. 오전  11:01 Titan-Goerli L2 Testnet De...</td>\n",
       "    </tr>\n",
       "    <tr>\n",
       "      <th>20</th>\n",
       "      <td>84b34354-9b83-4c48-8527-04bf0065eabb</td>\n",
       "      <td>Titan-Goerli L2 Testnet Dev Document.pdf</td>\n",
       "      <td>2</td>\n",
       "      <td>24. 1. 4. 오전  11:01 Titan-Goerli L2 Testnet De...</td>\n",
       "    </tr>\n",
       "    <tr>\n",
       "      <th>21</th>\n",
       "      <td>c486672d-f426-4573-a499-a5cfddaeed7f</td>\n",
       "      <td>Titan-Goerli L2 Testnet Dev Document.pdf</td>\n",
       "      <td>3</td>\n",
       "      <td>24. 1. 4. 오전  11:01 Titan-Goerli L2 Testnet De...</td>\n",
       "    </tr>\n",
       "    <tr>\n",
       "      <th>22</th>\n",
       "      <td>af07b92e-45cd-4bb9-8183-088c19c6dc48</td>\n",
       "      <td>Titan-Goerli L2 Testnet Dev Document.pdf</td>\n",
       "      <td>4</td>\n",
       "      <td>24. 1. 4. 오전  11:01 Titan-Goerli L2 Testnet De...</td>\n",
       "    </tr>\n",
       "    <tr>\n",
       "      <th>23</th>\n",
       "      <td>33ee3f97-f0f2-48c5-8078-e372d2ffd4cf</td>\n",
       "      <td>Titan-Goerli L2 Testnet Dev Document.pdf</td>\n",
       "      <td>5</td>\n",
       "      <td>24. 1. 4. 오전  11:01 Titan-Goerli L2 Testnet De...</td>\n",
       "    </tr>\n",
       "    <tr>\n",
       "      <th>24</th>\n",
       "      <td>184508b9-6b73-40c8-b3fa-c68733e11c4d</td>\n",
       "      <td>Titan-Goerli L2 Testnet Dev Document.pdf</td>\n",
       "      <td>6</td>\n",
       "      <td>24. 1. 4. 오전  11:01 Titan-Goerli L2 Testnet De...</td>\n",
       "    </tr>\n",
       "    <tr>\n",
       "      <th>25</th>\n",
       "      <td>11042118-16e8-4244-b7f4-843ca9241e91</td>\n",
       "      <td>What is different.pdf</td>\n",
       "      <td>1</td>\n",
       "      <td>24. 1. 4. 오전  10:54 What is different - (curre...</td>\n",
       "    </tr>\n",
       "    <tr>\n",
       "      <th>26</th>\n",
       "      <td>32914d73-1594-4d9b-b83e-7dea2a449764</td>\n",
       "      <td>What is different.pdf</td>\n",
       "      <td>2</td>\n",
       "      <td>24. 1. 4. 오전  10:54 What is different - (curre...</td>\n",
       "    </tr>\n",
       "    <tr>\n",
       "      <th>27</th>\n",
       "      <td>595060f1-c6f5-42e0-b2c7-8b43212d05cb</td>\n",
       "      <td>Token Address.pdf</td>\n",
       "      <td>1</td>\n",
       "      <td>24. 1. 4. 오전  10:52 Token Addresse - (current)...</td>\n",
       "    </tr>\n",
       "    <tr>\n",
       "      <th>28</th>\n",
       "      <td>cb53feb1-9294-4e84-890b-0c4fbbdc9f30</td>\n",
       "      <td>Token Address.pdf</td>\n",
       "      <td>2</td>\n",
       "      <td>24. 1. 4. 오전  10:52 Token Addresse - (current)...</td>\n",
       "    </tr>\n",
       "    <tr>\n",
       "      <th>29</th>\n",
       "      <td>616406a6-0d25-49ae-bf28-0bddb5f83a2a</td>\n",
       "      <td>Titan_User Guide_01.pdf</td>\n",
       "      <td>1</td>\n",
       "      <td>24. 1. 4. 오전  10:40 Titan - (current) User Gui...</td>\n",
       "    </tr>\n",
       "  </tbody>\n",
       "</table>\n",
       "</div>"
      ],
      "text/plain": [
       "                                chunk_id  \\\n",
       "0   56128eb0-5efb-4997-9d88-380fd9e2e26d   \n",
       "1   d42f6dc2-ae7b-4a9b-b1d8-c29906ce4854   \n",
       "2   70d28565-4b94-4e57-8068-59e44275c71a   \n",
       "3   f1d0e247-ff48-4cc2-8d92-146b2f361220   \n",
       "4   cc0f7cbb-db3d-4dd1-a4c0-0d4c20fe45f2   \n",
       "5   81036f5a-80c4-4f8a-9d11-d71d533a7467   \n",
       "6   26490426-5872-4ddf-b575-cc21a4aaa1d2   \n",
       "7   412a19be-6e1e-47cb-a5ae-9c87b7c8d8a3   \n",
       "8   73e366fc-4c95-48a0-8a30-0ec63b077be6   \n",
       "9   ab1f1481-bd0c-4691-aed6-46aba5fe7247   \n",
       "10  477fee71-7ecb-4553-8d2b-d597c3d5cebb   \n",
       "11  141c6846-14d4-41ad-9330-b678f28fa953   \n",
       "12  14fed7c0-8cd5-4722-bd0f-e3152f38b19d   \n",
       "13  fc8351ca-0112-4f72-9022-06e8d7196f43   \n",
       "14  26cad568-aeea-47a0-998e-56ba93294a5c   \n",
       "15  629da11c-5c08-49c4-992c-4b65339be784   \n",
       "16  9d3e8111-c698-4453-acf7-42f886e217ce   \n",
       "17  06fb8768-aa5f-4c7d-ae65-6a130602281e   \n",
       "18  2a149bb0-a266-4b0b-a1f0-d9a4f1d2249f   \n",
       "19  47a0640c-02c1-4c4f-a4d2-1c708e9309ae   \n",
       "20  84b34354-9b83-4c48-8527-04bf0065eabb   \n",
       "21  c486672d-f426-4573-a499-a5cfddaeed7f   \n",
       "22  af07b92e-45cd-4bb9-8183-088c19c6dc48   \n",
       "23  33ee3f97-f0f2-48c5-8078-e372d2ffd4cf   \n",
       "24  184508b9-6b73-40c8-b3fa-c68733e11c4d   \n",
       "25  11042118-16e8-4244-b7f4-843ca9241e91   \n",
       "26  32914d73-1594-4d9b-b83e-7dea2a449764   \n",
       "27  595060f1-c6f5-42e0-b2c7-8b43212d05cb   \n",
       "28  cb53feb1-9294-4e84-890b-0c4fbbdc9f30   \n",
       "29  616406a6-0d25-49ae-bf28-0bddb5f83a2a   \n",
       "\n",
       "                                      document  page  \\\n",
       "0                                   L2 fee.pdf     1   \n",
       "1                     What is different_KR.pdf     1   \n",
       "2                     What is different_KR.pdf     2   \n",
       "3   Developer Guide - (current) User Guide.pdf     1   \n",
       "4         Add Titan Network in Metamask_KR.pdf     1   \n",
       "5         Add Titan Network in Metamask_KR.pdf     2   \n",
       "6         Add Titan Network in Metamask_KR.pdf     3   \n",
       "7         Add Titan Network in Metamask_KR.pdf     4   \n",
       "8         Add Titan Network in Metamask_KR.pdf     5   \n",
       "9         Add Titan Network in Metamask_KR.pdf     6   \n",
       "10        Add Titan Network in Metamask_KR.pdf     7   \n",
       "11        Add Titan Network in Metamask_KR.pdf     8   \n",
       "12        Add Titan Network in Metamask_KR.pdf     9   \n",
       "13        Add Titan Network in Metamask_KR.pdf    10   \n",
       "14        Add Titan Network in Metamask_KR.pdf    11   \n",
       "15        Add Titan Network in Metamask_KR.pdf    12   \n",
       "16        Add Titan Network in Metamask_KR.pdf    13   \n",
       "17        Add Titan Network in Metamask_KR.pdf    14   \n",
       "18        Add Titan Network in Metamask_KR.pdf    15   \n",
       "19    Titan-Goerli L2 Testnet Dev Document.pdf     1   \n",
       "20    Titan-Goerli L2 Testnet Dev Document.pdf     2   \n",
       "21    Titan-Goerli L2 Testnet Dev Document.pdf     3   \n",
       "22    Titan-Goerli L2 Testnet Dev Document.pdf     4   \n",
       "23    Titan-Goerli L2 Testnet Dev Document.pdf     5   \n",
       "24    Titan-Goerli L2 Testnet Dev Document.pdf     6   \n",
       "25                       What is different.pdf     1   \n",
       "26                       What is different.pdf     2   \n",
       "27                           Token Address.pdf     1   \n",
       "28                           Token Address.pdf     2   \n",
       "29                     Titan_User Guide_01.pdf     1   \n",
       "\n",
       "                                              content  \n",
       "0   24. 1. 4. 오전  10:49 L2 fee - (current) User Gu...  \n",
       "1   24. 1. 4. 오후  1:01 What is different - (curren...  \n",
       "2   24. 1. 4. 오후  1:01 What is different - (curren...  \n",
       "3   24. 1. 4. 오전  10:50 Developer Guide - (current...  \n",
       "4   24. 1. 4. 오후  12:58 Add Titan Network in Metam...  \n",
       "5   24. 1. 4. 오후  12:58 Add Titan Network in Metam...  \n",
       "6   24. 1. 4. 오후  12:58 Add Titan Network in Metam...  \n",
       "7   24. 1. 4. 오후  12:58 Add Titan Network in Metam...  \n",
       "8   24. 1. 4. 오후  12:58 Add Titan Network in Metam...  \n",
       "9   24. 1. 4. 오후  12:58 Add Titan Network in Metam...  \n",
       "10  24. 1. 4. 오후  12:58 Add Titan Network in Metam...  \n",
       "11  24. 1. 4. 오후  12:58 Add Titan Network in Metam...  \n",
       "12  24. 1. 4. 오후  12:58 Add Titan Network in Metam...  \n",
       "13  24. 1. 4. 오후  12:58 Add Titan Network in Metam...  \n",
       "14  24. 1. 4. 오후  12:58 Add Titan Network in Metam...  \n",
       "15  24. 1. 4. 오후  12:58 Add Titan Network in Metam...  \n",
       "16  24. 1. 4. 오후  12:58 Add Titan Network in Metam...  \n",
       "17  24. 1. 4. 오후  12:58 Add Titan Network in Metam...  \n",
       "18  24. 1. 4. 오후  12:58 Add Titan Network in Metam...  \n",
       "19  24. 1. 4. 오전  11:01 Titan-Goerli L2 Testnet De...  \n",
       "20  24. 1. 4. 오전  11:01 Titan-Goerli L2 Testnet De...  \n",
       "21  24. 1. 4. 오전  11:01 Titan-Goerli L2 Testnet De...  \n",
       "22  24. 1. 4. 오전  11:01 Titan-Goerli L2 Testnet De...  \n",
       "23  24. 1. 4. 오전  11:01 Titan-Goerli L2 Testnet De...  \n",
       "24  24. 1. 4. 오전  11:01 Titan-Goerli L2 Testnet De...  \n",
       "25  24. 1. 4. 오전  10:54 What is different - (curre...  \n",
       "26  24. 1. 4. 오전  10:54 What is different - (curre...  \n",
       "27  24. 1. 4. 오전  10:52 Token Addresse - (current)...  \n",
       "28  24. 1. 4. 오전  10:52 Token Addresse - (current)...  \n",
       "29  24. 1. 4. 오전  10:40 Titan - (current) User Gui...  "
      ]
     },
     "metadata": {},
     "output_type": "display_data"
    }
   ],
   "source": [
    "# vector db에서 문서삭제 테스트\n",
    "db_updated = delete_data(db, \"Gas Estimation_KR.pdf\")\n",
    "\n",
    "show_vstore(db)"
   ]
  },
  {
   "cell_type": "code",
   "execution_count": 22,
   "metadata": {},
   "outputs": [],
   "source": [
    "# update_models = db_loaded 업데이트 + save_local 실시\n",
    "\n",
    "model = update_models(db_loaded)"
   ]
  },
  {
   "cell_type": "code",
   "execution_count": 23,
   "metadata": {},
   "outputs": [
    {
     "name": "stdout",
     "output_type": "stream",
     "text": [
      "Answer:   MetaMask에서 Titan 네트워크를 추가하는 방법은 다음과 같습니다:\n",
      "1. Chrome 웹 브라우저에서 MetaMask를 검색하고 설치합니다.\n",
      "2. MetaMask를 실행한 후, 오른쪽 상단의 버튼을 클릭하고 확장프로그램을 선택합니다.\n",
      "3. Chrome 웹 스토어를 방문한 다음, 스토어 검색을 클릭하고 MetaMask를 검색합니다.\n",
      "4. MetaMask가 설치되면, 오른쪽 상단의 버튼을 클릭하고 확장 프로그램 관리를 선택합니다.\n",
      "5. 관리 페이지에서 네트워크 전환 버튼을 클릭하고 Titan Mainnet 네트워크를 추가합니다.\n",
      "\n",
      "Source data/Add Titan Network in Metamask_KR.pdf\n"
     ]
    }
   ],
   "source": [
    "# 삭제 및 vector DB 업데이트(=refresh) 완료후, 삭제된 파일에 대한 질문 해보기\n",
    "question = \"metamask에 titan 네트워크를 추가하는 방법을 순서와 함께 상세히 알려주세요. \"\n",
    "\n",
    "# model() 메소드는 langchain 라이브러리의 RetrievalQAWithSourcesChain 클래스의 인스턴스 메서드\n",
    "# 질의응답, context 등은 dictionary 자료형임\n",
    "response = model({\"question\": question}, return_only_outputs=True)\n",
    "print(\"Answer: \", response['answer'])\n",
    "print(\"Source\", response['sources'])"
   ]
  },
  {
   "cell_type": "code",
   "execution_count": 36,
   "metadata": {},
   "outputs": [
    {
     "name": "stdout",
     "output_type": "stream",
     "text": [
      "Answer:   The fee on Titan is determined by adding two components together: the L2 execution fee and the L1 security fee. The L2 execution fee is calculated based on the gas price and gas used, while the L1 security fee is an essential fee required for Optimistic Rollup. There are also slight differences in opcode behavior on Titan compared to Ethereum. \n",
      "\n",
      "Source data/L2 fee.pdf, data/Titan_User Guide_01.pdf, data/What is different.pdf\n"
     ]
    }
   ],
   "source": [
    "# check deletion\n",
    "question = \"explain fee briefly\"\n",
    "response = model({\"question\": question}, return_only_outputs=True)\n",
    "\n",
    "print(\"Answer: \", response['answer'])\n",
    "print(\"Source\", response['sources'])"
   ]
  },
  {
   "cell_type": "code",
   "execution_count": 47,
   "metadata": {},
   "outputs": [
    {
     "name": "stdout",
     "output_type": "stream",
     "text": [
      "[0, 1, 2, 3, 4, 5, 6, 7, 8, 9, 10, 11, 12, 13, 14, 15, 16, 17, 18, 19, 20, 21, 22, 23, 24, 25, 26, 27, 28, 29, 30, 31, 32]\n",
      "count before: 33\n",
      "count after: 33\n"
     ]
    }
   ],
   "source": [
    "############################################################\n",
    "#                   (참고) FAISS 객체의 자료형                  #\n",
    "############################################################\n",
    "\n",
    "# 지우고자 하는 pdf의 일련번호 파악\n",
    "print([id for id in db.index_to_docstore_id])\n",
    "# 일련번호를 입력하여 pdf 삭제\n",
    "print(\"count before:\", db.index.ntotal)\n",
    "# db.delete([db.index_to_docstore_id[0]])\n",
    "print(\"count after:\", db.index.ntotal)\n"
   ]
  },
  {
   "cell_type": "code",
   "execution_count": 52,
   "metadata": {},
   "outputs": [
    {
     "name": "stdout",
     "output_type": "stream",
     "text": [
      "['_FAISS__add', '_FAISS__from', '__abstractmethods__', '__class__', '__delattr__', '__dict__', '__dir__', '__doc__', '__eq__', '__format__', '__ge__', '__getattribute__', '__gt__', '__hash__', '__init__', '__init_subclass__', '__le__', '__lt__', '__module__', '__ne__', '__new__', '__reduce__', '__reduce_ex__', '__repr__', '__setattr__', '__sizeof__', '__slots__', '__str__', '__subclasshook__', '__weakref__', '_abc_impl', '_aembed_documents', '_aembed_query', '_asimilarity_search_with_relevance_scores', '_cosine_relevance_score_fn', '_embed_documents', '_embed_query', '_euclidean_relevance_score_fn', '_get_retriever_tags', '_max_inner_product_relevance_score_fn', '_normalize_L2', '_select_relevance_score_fn', '_similarity_search_with_relevance_scores', 'aadd_documents', 'aadd_texts', 'add_documents', 'add_embeddings', 'add_texts', 'adelete', 'afrom_documents', 'afrom_embeddings', 'afrom_texts', 'amax_marginal_relevance_search', 'amax_marginal_relevance_search_by_vector', 'amax_marginal_relevance_search_with_score_by_vector', 'as_retriever', 'asearch', 'asimilarity_search', 'asimilarity_search_by_vector', 'asimilarity_search_with_relevance_scores', 'asimilarity_search_with_score', 'asimilarity_search_with_score_by_vector', 'delete', 'deserialize_from_bytes', 'distance_strategy', 'docstore', 'embedding_function', 'embeddings', 'from_documents', 'from_embeddings', 'from_texts', 'index', 'index_to_docstore_id', 'load_local', 'max_marginal_relevance_search', 'max_marginal_relevance_search_by_vector', 'max_marginal_relevance_search_with_score_by_vector', 'merge_from', 'override_relevance_score_fn', 'save_local', 'search', 'serialize_to_bytes', 'similarity_search', 'similarity_search_by_vector', 'similarity_search_with_relevance_scores', 'similarity_search_with_score', 'similarity_search_with_score_by_vector']\n"
     ]
    }
   ],
   "source": [
    "# FAISS 객체인 db가 가진 속성을 파익\n",
    "print(dir(db))"
   ]
  },
  {
   "cell_type": "code",
   "execution_count": null,
   "metadata": {},
   "outputs": [],
   "source": [
    "# 각 속성의 데이터 타입을 확인\n",
    "for attr in dir(db):\n",
    "    print(f\"{attr} : {type(getattr(db, attr))}\")"
   ]
  },
  {
   "cell_type": "code",
   "execution_count": 55,
   "metadata": {},
   "outputs": [
    {
     "name": "stdout",
     "output_type": "stream",
     "text": [
      "{0: '56128eb0-5efb-4997-9d88-380fd9e2e26d', 1: 'd42f6dc2-ae7b-4a9b-b1d8-c29906ce4854', 2: '70d28565-4b94-4e57-8068-59e44275c71a', 3: 'f1d0e247-ff48-4cc2-8d92-146b2f361220', 4: 'cc0f7cbb-db3d-4dd1-a4c0-0d4c20fe45f2', 5: '81036f5a-80c4-4f8a-9d11-d71d533a7467', 6: '26490426-5872-4ddf-b575-cc21a4aaa1d2', 7: '412a19be-6e1e-47cb-a5ae-9c87b7c8d8a3', 8: '73e366fc-4c95-48a0-8a30-0ec63b077be6', 9: 'ab1f1481-bd0c-4691-aed6-46aba5fe7247', 10: '477fee71-7ecb-4553-8d2b-d597c3d5cebb', 11: '141c6846-14d4-41ad-9330-b678f28fa953', 12: '14fed7c0-8cd5-4722-bd0f-e3152f38b19d', 13: 'fc8351ca-0112-4f72-9022-06e8d7196f43', 14: '26cad568-aeea-47a0-998e-56ba93294a5c', 15: '629da11c-5c08-49c4-992c-4b65339be784', 16: '9d3e8111-c698-4453-acf7-42f886e217ce', 17: '06fb8768-aa5f-4c7d-ae65-6a130602281e', 18: '2a149bb0-a266-4b0b-a1f0-d9a4f1d2249f', 19: '47a0640c-02c1-4c4f-a4d2-1c708e9309ae', 20: '84b34354-9b83-4c48-8527-04bf0065eabb', 21: 'c486672d-f426-4573-a499-a5cfddaeed7f', 22: 'af07b92e-45cd-4bb9-8183-088c19c6dc48', 23: '33ee3f97-f0f2-48c5-8078-e372d2ffd4cf', 24: '184508b9-6b73-40c8-b3fa-c68733e11c4d', 25: '11042118-16e8-4244-b7f4-843ca9241e91', 26: '32914d73-1594-4d9b-b83e-7dea2a449764', 27: '81a62065-88a6-4a47-9d5a-ab6f45e3366f', 28: 'd9d5e44a-9fd8-4983-8873-e47a6dfd6ba0', 29: 'fa7d4c7b-42a0-4cdb-b634-17b506d3b364', 30: '595060f1-c6f5-42e0-b2c7-8b43212d05cb', 31: 'cb53feb1-9294-4e84-890b-0c4fbbdc9f30', 32: '616406a6-0d25-49ae-bf28-0bddb5f83a2a'}\n"
     ]
    }
   ],
   "source": [
    "# dictionary 자료형인 index_to_docstore_id 객체의 내용을 모두 보고 싶을 경우에는?\n",
    "# Python의 dict 객체의 내용을 보려면, 그냥 print() 함수를 사용하면 됨\n",
    "print(db.index_to_docstore_id)"
   ]
  },
  {
   "cell_type": "code",
   "execution_count": 56,
   "metadata": {},
   "outputs": [
    {
     "name": "stdout",
     "output_type": "stream",
     "text": [
      "['__abstractmethods__', '__class__', '__delattr__', '__dict__', '__dir__', '__doc__', '__eq__', '__format__', '__ge__', '__getattribute__', '__gt__', '__hash__', '__init__', '__init_subclass__', '__le__', '__lt__', '__module__', '__ne__', '__new__', '__reduce__', '__reduce_ex__', '__repr__', '__setattr__', '__sizeof__', '__slotnames__', '__slots__', '__str__', '__subclasshook__', '__weakref__', '_abc_impl', '_dict', 'add', 'delete', 'search']\n"
     ]
    }
   ],
   "source": [
    "# db안에서 실제 문서를 저장하고 있는 클래스는 docstore\n",
    "# class든 dict든 파이썬에서 객체구조를 보려면 dir() 함수를 사용\n",
    "print(dir(db.docstore))"
   ]
  },
  {
   "cell_type": "code",
   "execution_count": 59,
   "metadata": {},
   "outputs": [
    {
     "name": "stdout",
     "output_type": "stream",
     "text": [
      "['__call__', '__class__', '__delattr__', '__dir__', '__doc__', '__eq__', '__format__', '__ge__', '__getattribute__', '__gt__', '__hash__', '__init__', '__init_subclass__', '__le__', '__lt__', '__module__', '__name__', '__ne__', '__new__', '__qualname__', '__reduce__', '__reduce_ex__', '__repr__', '__self__', '__setattr__', '__sizeof__', '__str__', '__subclasshook__', '__text_signature__']\n"
     ]
    }
   ],
   "source": [
    "print(dir(db.docstore))"
   ]
  },
  {
   "cell_type": "markdown",
   "metadata": {},
   "source": [
    "## 05. Add new document"
   ]
  },
  {
   "cell_type": "markdown",
   "metadata": {},
   "source": [
    "* vectorDB 저장폴더\n",
    "  \n",
    "  vector_directory = \"test_vectordb\"\n",
    "\n",
    "* PDF 폴더\n",
    "\n",
    "  ./data/\n",
    "\n",
    "* PDF 추가 폴더\n",
    "\n",
    "./data_added/\n",
    "\n"
   ]
  },
  {
   "cell_type": "code",
   "execution_count": 41,
   "metadata": {},
   "outputs": [],
   "source": [
    "##################################################################################\n",
    "#       pdf 추가(선택 1) : 추가 pdf 로딩 -> db2 생성 -> db1.merge_from(db2) 사용        #\n",
    "##################################################################################\n",
    "\n",
    "import shutil\n",
    "\n",
    "# 추가할 pdf만 담는 폴더\n",
    "data_added = \"./data_added/\"\n",
    "\n",
    "# add_to_vectorstore()함수 안에 들어갈 내부 함수. (역할: 추가 pdf 객체 생성 후, pdf는 원본폴더로 이동)\n",
    "def DirectoryLoader_added(_data, _data_added, loader_cls=PyPDFLoader):\n",
    "    # 1. 추가할 pdf를 로딩\n",
    "    loader = DirectoryLoader(_data_added, loader_cls=PyPDFLoader)\n",
    "    # 2. 로딩 완료된 pdf파일은 data로 옮겨서 pdf 통합관리\n",
    "    for filename in os.listdir(_data_added):\n",
    "        source_path = os.path.join(_data_added, filename)\n",
    "        target_path = os.path.join(_data, filename)\n",
    "        if os.path.isfile(source_path):\n",
    "            # shutil.move() 함수는 파일을 새 위치로 이동한 후 원래 위치의 파일을 삭제함\n",
    "            shutil.move(source_path, target_path)\n",
    "    return loader\n",
    "\n",
    "# 테스트 : 추가 pdf를 담은 loader_added 객체 생성\n",
    "loader_added = DirectoryLoader_added(data, data_added, loader_cls=PyPDFLoader)"
   ]
  },
  {
   "cell_type": "code",
   "execution_count": 42,
   "metadata": {},
   "outputs": [
    {
     "name": "stdout",
     "output_type": "stream",
     "text": [
      "<langchain_community.document_loaders.directory.DirectoryLoader object at 0x127860880>\n"
     ]
    }
   ],
   "source": [
    "print(loader_added)"
   ]
  },
  {
   "cell_type": "markdown",
   "metadata": {},
   "source": [
    "db1.merge_from(db2) --> DB병합"
   ]
  },
  {
   "cell_type": "code",
   "execution_count": 62,
   "metadata": {},
   "outputs": [],
   "source": [
    "# vector db의 병합은 merge_from() 메소드를 이용하여 수행\n",
    "# 기존DB.merge_from(새로운DB) 메소드를 이용하여 새로운 DB를 기존DB에 병합할 수 있음\n",
    "def insert_data(_data, _data_added, _store, _vector_directory):\n",
    "    # 1. 추가 pdf 로딩 -> 전처리\n",
    "    loader_ = DirectoryLoader_added(_data, _data_added, loader_cls=PyPDFLoader)\n",
    "    pages = loader.load_and_split()\n",
    "    docs = text_splitter.split_documents(pages)\n",
    "    # 2. 추가 db 생성(메모리 상에서만 생성되었고, 아직 local에 저장은 안된 상태)\n",
    "    extensions = FAISS.from_documents(docs, embeddings)\n",
    "    # 3. 이미 로딩된 DB에 추가 DB를 병합\n",
    "    _store_updated = _store.merge_from(extensions)\n",
    "    # 4. 모델 refresh : db_loaded 업데이트 + save_local() 실행\n",
    "    model = update_models(_store_updated)"
   ]
  },
  {
   "cell_type": "code",
   "execution_count": null,
   "metadata": {},
   "outputs": [],
   "source": [
    "# DB 병합\n",
    "insert_data(data, data_added, _store, _vector_directory)\n",
    "\n"
   ]
  },
  {
   "cell_type": "code",
   "execution_count": null,
   "metadata": {},
   "outputs": [],
   "source": [
    "#########################################################################\n",
    "#                   pdf 추가(선택 2) :   langchain 함수 사용                 #\n",
    "#########################################################################\n",
    "\n",
    "# 추가 pdf 로딩 → 추가 db 생성\n",
    "db2 = FAISS.from_documents(docs, embeddings)\n",
    "# 기존 db + 추가 db\n",
    "db1.merge_from(db2)\n"
   ]
  },
  {
   "cell_type": "markdown",
   "metadata": {},
   "source": [
    "## 06. 사용자 인증"
   ]
  },
  {
   "cell_type": "markdown",
   "metadata": {},
   "source": [
    "배경 \n",
    "1. openAI에서는 Oauth 관련 API를 제공하지 않으므로, openAI계정으로 로그인할 수 없다. \n",
    "2. openAI의 API를 이용한 서비스를 할 경우, 사용자는 자신의 API KEY를 가지고 다녀야 하는 것이 정책이다 (BYOK 정책)\n",
    "3. 따라서 입력한 API KEY 값을 통해 \n",
    "   1. 유효한 api key인지 판단\n",
    "   2. 관리자의 api key인지 판단 (맞다면 관리자용 view를 제공)"
   ]
  },
  {
   "cell_type": "code",
   "execution_count": 37,
   "metadata": {},
   "outputs": [
    {
     "name": "stdout",
     "output_type": "stream",
     "text": [
      "bf43e818b892edf3f1e1a59594665f7070f295f0fa0c32c1fef46118827e5b37\n"
     ]
    }
   ],
   "source": [
    "import hashlib\n",
    "\n",
    "# 1. 관리자의 api key의 hash값으로 변환하여 변수로 저장\n",
    "admin_key = \"120hx7gadvda12xh128998938495\" # \"120hx7gadvda12xh128998938495\"는 admin key를 가정한 임의의 문자열임\n",
    "admin_key_hash = hashlib.sha256(admin_key.encode()).hexdigest()\n",
    "\n",
    "print(admin_key_hash)"
   ]
  },
  {
   "cell_type": "code",
   "execution_count": 38,
   "metadata": {},
   "outputs": [],
   "source": [
    "# 2. 사용자가 접속하여 text input 창에 api key를 입력\n",
    "user_input_api_key = input(\"Enter your API key: \")"
   ]
  },
  {
   "cell_type": "code",
   "execution_count": 39,
   "metadata": {},
   "outputs": [],
   "source": [
    "# 3. 해당 api key의 hash값이 관리자의 api key hash값과 일치하는지 검사\n",
    "user_api_key_hash = hashlib.sha256(user_input_api_key.encode()).hexdigest()"
   ]
  },
  {
   "cell_type": "code",
   "execution_count": 40,
   "metadata": {},
   "outputs": [
    {
     "name": "stdout",
     "output_type": "stream",
     "text": [
      "Is user API key correct? True\n"
     ]
    }
   ],
   "source": [
    "# 4. hash 일치 여부 판단\n",
    "is_admin = (user_api_key_hash == admin_key_hash)\n",
    "\n",
    "# 결과 출력\n",
    "print(\"Is user API key correct?\", is_admin)"
   ]
  },
  {
   "cell_type": "code",
   "execution_count": null,
   "metadata": {},
   "outputs": [],
   "source": []
  }
 ],
 "metadata": {
  "kernelspec": {
   "display_name": "LLM",
   "language": "python",
   "name": "python3"
  },
  "language_info": {
   "codemirror_mode": {
    "name": "ipython",
    "version": 3
   },
   "file_extension": ".py",
   "mimetype": "text/x-python",
   "name": "python",
   "nbconvert_exporter": "python",
   "pygments_lexer": "ipython3",
   "version": "3.10.13"
  }
 },
 "nbformat": 4,
 "nbformat_minor": 2
}
