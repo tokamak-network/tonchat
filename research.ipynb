{
 "cells": [
  {
   "cell_type": "markdown",
   "metadata": {},
   "source": [
    "# Section 1 : VectorDB Operations with Faiss"
   ]
  },
  {
   "cell_type": "code",
   "execution_count": 2,
   "metadata": {},
   "outputs": [],
   "source": [
    "from langchain.embeddings.openai import OpenAIEmbeddings\n",
    "from langchain.text_splitter import CharacterTextSplitter\n",
    "from langchain.vectorstores import FAISS\n",
    "from langchain.document_loaders import DirectoryLoader, PyPDFLoader\n",
    "from langchain import OpenAI, VectorDBQA\n",
    "from langchain.chains import RetrievalQAWithSourcesChain\n",
    "import pandas as pd\n",
    "import os\n",
    "from dotenv import load_dotenv # openai api key 입력을 위해서 필요"
   ]
  },
  {
   "cell_type": "code",
   "execution_count": 3,
   "metadata": {},
   "outputs": [],
   "source": [
    "OPENAI_API_KEY_PATH = \"/Users/eugene/Dropbox/0_Dev/07_LLM/project/env_folder/tonchat_key/.env\"\n",
    "# 셋째, .env 파일을 현재 실행환경에 등록. 그 결과, 개별 API 함수의 인자에 KEY값을 일일이 넣지 않아도 됨\n",
    "load_dotenv(OPENAI_API_KEY_PATH)\n",
    "# 넷째, 현재 실행환경에서 \"OPENAI_API_KEY\"라고 명명된 값을 불러오기\n",
    "OPENAI_API_KEY = os.getenv(\"OPENAI_API_KEY\")"
   ]
  },
  {
   "cell_type": "code",
   "execution_count": 4,
   "metadata": {},
   "outputs": [
    {
     "name": "stderr",
     "output_type": "stream",
     "text": [
      "/Users/eugene/opt/anaconda3/envs/LLM/lib/python3.10/site-packages/langchain_core/_api/deprecation.py:117: LangChainDeprecationWarning: The class `langchain_community.embeddings.openai.OpenAIEmbeddings` was deprecated in langchain-community 0.1.0 and will be removed in 0.2.0. An updated version of the class exists in the langchain-openai package and should be used instead. To use it run `pip install -U langchain-openai` and import as `from langchain_openai import OpenAIEmbeddings`.\n",
      "  warn_deprecated(\n"
     ]
    }
   ],
   "source": [
    "# DirectoryLoader 객체 생성\n",
    "loader = DirectoryLoader(\"./faiss/\", loader_cls=PyPDFLoader)\n",
    "\n",
    "# load_and_split() 메소드를 호출하여 문서를 로드하고 page 단위로 분할저장\n",
    "pages = loader.load_and_split()\n",
    "\n",
    "# CharacterTextSplitter 객체 생성\n",
    "text_splitter = CharacterTextSplitter(chunk_size=1000, chunk_overlap=0)\n",
    "\n",
    "# page 단위로 저장된 문서를 일정갯수의 character 갯수로 분할 후, document 단위로 분할저장\n",
    "docs = text_splitter.split_documents(pages)\n",
    "\n",
    "embeddings = OpenAIEmbeddings()\n"
   ]
  },
  {
   "cell_type": "code",
   "execution_count": 5,
   "metadata": {},
   "outputs": [
    {
     "data": {
      "text/plain": [
       "['/Users/eugene/Dropbox/0_Dev/07_LLM/project/tonchat',\n",
       " '/Users/eugene/opt/anaconda3/envs/LLM/lib/python310.zip',\n",
       " '/Users/eugene/opt/anaconda3/envs/LLM/lib/python3.10',\n",
       " '/Users/eugene/opt/anaconda3/envs/LLM/lib/python3.10/lib-dynload',\n",
       " '',\n",
       " '/Users/eugene/opt/anaconda3/envs/LLM/lib/python3.10/site-packages']"
      ]
     },
     "execution_count": 5,
     "metadata": {},
     "output_type": "execute_result"
    }
   ],
   "source": [
    "# 현재 파이썬 라이브러리가 설치된 장소를 알아보자\n",
    "import sys\n",
    "sys.path"
   ]
  },
  {
   "cell_type": "code",
   "execution_count": null,
   "metadata": {},
   "outputs": [],
   "source": [
    "# 위의 경로에 패키지들이 제대로 설칭되었는지 확인\n",
    "!pip list -v"
   ]
  },
  {
   "cell_type": "code",
   "execution_count": 5,
   "metadata": {},
   "outputs": [],
   "source": [
    "# docs에 저장된 문서들을 embeddings변수에 저장해둔 구체적인 embedding model을 이용하여 vector DB를 생성\n",
    "db = FAISS.from_documents(docs, embeddings)"
   ]
  },
  {
   "cell_type": "markdown",
   "metadata": {},
   "source": [
    "## 01. similarity search"
   ]
  },
  {
   "cell_type": "code",
   "execution_count": 85,
   "metadata": {},
   "outputs": [
    {
     "data": {
      "text/plain": [
       "[Document(page_content=\"24. 1. 4. 오전  10:49 L2 fee - (current) User Guide\\nhttps://tokamaknetwork.gitbook.io/home/02-service-guide/titan/user-guide/l2-fee 1/1L2 fee\\nThis document outlines the calculation process for transaction fees on Titan, emphasizing their lower\\ncost compared to Ethereum.\\nTitan's transaction fees are determined by adding two components together:\\nL2 execution fee\\nL1 security fee\\nL2 execution fee\\ntx.gasPrice * l2GasUsed\\nThe L2 execution fee refers to the fee incurred when a user's transaction is processed within the\\nTitan layer2 network. It follows a calculation method shown above, identical to the standard\\nEthereum transaction fee computation. However, the distinction lies in the fact that the gas price on\\nTitan is significantly lower compared to Ethereum.\\nL1 security fee\\nl1_base_fee * (tx_data_gas + overhaed) * scalar\\nThe L1 security fee is an essential fee required in the context of Optimistic Rollup. With Optimistic\\nRollup, all L2 transactions are uploaded to L1 to ensure data availability. \\nTo transmit these rollup transactions to L1, a portion of the L2 transaction fee is used for the L1\\ntransaction fee. While the rollup transaction includes the calldata  of all L2 transactions, it's\\nimportant to note that L2 transactions are not directly executed in L1. \\nConsequently, only the intrinsic gas generated when incorporating the L2 transaction calldata\\ninto the rollup transaction is calculated. The term tx_data_gas  mentioned earlier refers to this,\\nand its calculation is as follows.\\ntx_data_gas = count_zero_bytes(tx_data) * 4 + count_non_zero_bytes(tx_data) * 16\\nThe l1_base_fee  represents the base fee of L1, which is the amount of ETH required for the\\nrollup transaction. \\nTitan continuously monitors the Ethereum base fee fluctuations; whenever there is a substantial\\nchange, a new l1_base_fee  is stored in the L2 OVM_GasPriceOracle  contract.\\nThe overhead  is calculated in gas units and is assigned a relatively small value. scalar is the\\nweight multiplied for the L1 security fee.\", metadata={'source': 'faiss/L2 fee.pdf', 'page': 0}),\n",
       " Document(page_content='24. 1. 4. 오후  12:59 L2 fee - (current) User Guide\\nhttps://tokamaknetwork.gitbook.io/home/v/kor/02-service-guide/titan/user-guide/l2-fee 1/1L2 fee\\nTitan에서 트랜잭션  수수료는  이더리움보다  저렴합니다 . 이  문서에서는  Titan 의  트랜잭션  수수료가  어떠한  방식으로  계\\n산되는지 설명합니다 .\\nTitan의 트랜잭션  수수료는  아래  두  가지의  합입니다 .\\nL2 execution fee\\nL1 security fee\\nL2 execution fee\\ntx.gasPrice * l2GasUsed\\nL2 execution fee 는  사용자의  트랜잭션이  L2 에서  실행될  때  부과되는  수수료로써 , 위와  같이  계산되어  소모됩니다 .\\n이 부분은 일반적인  이더리움  트랜잭션  수수료  계산  방식과  동일한데 , Titan 의  gas price 가  이더리움에  비해  현저히\\n낮습니다.\\nL1 security fee\\nl1_base_fee * (tx_data_gas + overhaed ) * scalar\\nL1 security fee 는  Optimistic Rollup 의  특징으로  인해  필요한  수수료입니다 . Optimistic Rollup 에서는  L2 의\\nData availability 를  위해  L2 에서  발생하는  모든  트랜잭션에  대한  정보를  L1 으로  올립니다 . 이러한  Rollup 트랜잭션\\n을 L1으로 보내기  위해  트랜잭션  수수료로  사용할  ETH 를  L2 의  트랜잭션  수수료에서  가져옵니다 . Rollup 트랜잭션에\\n는 모든 L2 트랜잭션들의  calldata 가 포함되지만 , L2 의  트랜잭션들을  L1 에서  직접  실행하지는  않기  때문에 , 실\\n행에 필요한  만큼의  calldata  만 수수료로  계산됩니다 . 위에서  tx_data_gas 로 표현된 것이  이  부분에  해당\\n하며, 구체적으로는  아래와  같이  계산됩니다 .\\ntx_data_gas = count_zero_bytes (tx_data) * 4 + count_non_zero_bytes (tx_data) * 16\\nl1_base_fee 는 Rollup 트랜잭션을  위해  필요한  ETH 를  계산하기  위해  사용되는  L1 의  base fee 입니다 . Titan\\n은 주기적으로  이더리움의  base fee 변화량을  지켜보면서 , 변화량이  클  때마다  새로운  l1_base_fee 를 L2의 \\nOVM_GasPriceOracle  컨트랙트에  저장합니다 . overhead 는 gas 단위로  계산되며 , 작게  설정됩니다 . \\nscalar 는 L1 security fee 를  위해  곱해지는  가중치입니다 .', metadata={'source': 'faiss/L2 fee_KR.pdf', 'page': 0}),\n",
       " Document(page_content='24. 1. 4. 오전  10:59 Gas Estimation - (current) User Guide\\nhttps://tokamaknetwork.gitbook.io/home/02-service-guide/titan/developer-guide/gas-estimation 3/4await greeter .deployed ()\\nconsole log(`Greeter address: ${greeter address}`)\\nYou can call greeter \\'s setGreeting  function to change \"Hi!\" to \"Hello!\". You call the \\ngetEstimates  function we defined earlier to estimate and calculate the gas costs incurred by L1\\nand L2. signer.provider  represents the Ethereum provider, and fakeTx is the transaction\\nobject to estimate. The result of the estimation is assigned to the estimated  variable. We can\\nestimate the actual gas consumption by calling the greeter  contract setGreeting  function.\\nThe estimated gas consumption is assigned to estimated.l2Gas .\\nconst greeting = \"Hello!\"\\nconst fakeTxReq = await greeter .populateTransaction .setGreeting (greeting )\\nconst fakeTx = await signer .populateTransaction (fakeTxReq )\\nconsole.log(\"About to get estimates\" )\\nlet estimated = await getEstimates (signer.provider , fakeTx)\\nestimated .l2Gas = await greeter .estimateGas .setGreeting (greeting )\\nYou call the setGreeting  function of the greeter  instance, passing in the greeting  to\\ncreate the actual transaction. Set the gas price for the transaction and execute the wait()\\nfunction. We wait for the transaction to be processed and return the result of the transaction\\nexecution when it is complete.\\nconsole.log(\"About to create the transaction\" )\\nrealTx = await greeter .setGreeting (greeting )\\nrealTx.gasPrice = realTx.maxFeePerGas ;\\nconsole.log(\"Transaction created and submitted\" )\\nrealTxResp = await realTx .wait()\\nFor example, the estimated and actual gas costs can be shown below.\\nYou can check the total gas cost, L1 gas cost, and L2 gas cost by dividing the estimated gas\\ncost and actual gas cost by the Titan SDK and check the amount of gas consumed by L1 and L2\\nand the difference between them.', metadata={'source': 'faiss/Gas Estimation.pdf', 'page': 2}),\n",
       " Document(page_content='24. 1. 4. 오전  10:59 Gas Estimation - (current) User Guide\\nhttps://tokamaknetwork.gitbook.io/home/02-service-guide/titan/developer-guide/gas-estimation 2/4    totalCost : await provider .estimateTotalGasCost (tx),\\n    l1Cost : await provider .estimateL1GasCost (tx),\\n    l2Cost : await provider .estimateL2GasCost (tx),\\n    l1Gas : await provider .estimateL1Gas (tx)\\n  }\\n}\\nIn this example, we deploy a Greeter  contract and call a function within the contract to calculate\\nthe gas cost incurred on the L2.\\nThe Greeter  contract is described below.\\n1.Constructor(string memory _greeting) : Greeter \\'s constructor. It takes an\\nargument of type string named _greeting  and stores it in the greeting  variable. The\\nconstructor is executed only once when the contract is deployed.\\n2.function greet() public view returns (string memory) : A function that returns\\nthe value of the greeting  variable. The view keyword indicates that this function does not\\nchange the state.\\n3.function setGreeting(string memory _greeting) public : setGreeting\\nfunction that changes the value of the greeting  variable. Takes an argument named \\n_greeting  and updates the greeting  variable.\\n// Greeter.sol\\n// SPDX-License-Identifier: Unlicense\\npragma solidity  ^0.8.0;\\ncontract  Greeter {\\n  string greeting ;\\n  constructor (string memory _greeting ) {\\n//    console.log(\"Deploying a Greeter with greeting:\", _greeting);\\n    greeting = _greeting ;\\n  }\\n  function  greet() public view returns (string memory) {\\n    return greeting ;\\n  }\\n  function  setGreeting (string memory _greeting ) public {\\n//    console.log(\"Changing greeting from \\'%s\\' to \\'%s\\'\", greeting, _greeting);\\n    greeting = _greeting ;\\n  }\\n}\\nYou create a factory instance by running the new ethers.ContractFactory  function with the\\nabi and bytecode of the Greeter  contract and the L2 signer as parameters. Then deploy the \\nGreeter  contract. We initialize the instance to be deployed by passing an initial \"Hi!\" greeting to\\nthe constructor.\\nconst factoryGreeter = new ethers.ContractFactory (greeterJSON .abi, greeterJSON .bytecode\\nconst greeter = await factoryGreeter .deploy(\"Hi!\")', metadata={'source': 'faiss/Gas Estimation.pdf', 'page': 1})]"
      ]
     },
     "execution_count": 85,
     "metadata": {},
     "output_type": "execute_result"
    }
   ],
   "source": [
    "# similarity_search(query) 메소드를 이용 : SQL언어가 아닌 자연어인 query와 가장 유사한 문서를 찾아냄\n",
    "query = 'fee'\n",
    "docs_result = db.similarity_search(query)\n",
    "docs_result"
   ]
  },
  {
   "cell_type": "code",
   "execution_count": 6,
   "metadata": {},
   "outputs": [
    {
     "name": "stderr",
     "output_type": "stream",
     "text": [
      "/Users/eugene/opt/anaconda3/envs/LLM/lib/python3.10/site-packages/langchain_core/_api/deprecation.py:117: LangChainDeprecationWarning: The class `langchain_community.llms.openai.OpenAI` was deprecated in langchain-community 0.0.10 and will be removed in 0.2.0. An updated version of the class exists in the langchain-openai package and should be used instead. To use it run `pip install -U langchain-openai` and import as `from langchain_openai import OpenAI`.\n",
      "  warn_deprecated(\n"
     ]
    }
   ],
   "source": [
    "# db검색을 위한 vector DBQA 객체를 생성\n",
    "retriever = db.as_retriever()\n",
    "# OpenAI(model=\"gpt-3.5-turbo-instruct\") 처럼 ()안에 사용할 모델을 명시하지 않으면 text-davinci-003을 사용하는데, 이는 legacy model이라 헌재 지원안됨\n",
    "# 따라서 OpenAI(model=\"gpt-3.5-turbo-instruct\") 처럼 ()안에 사용할 모델을 명시해야 함\n",
    "# 지시사항을 수행하는 용도인 InstructGPT을 선택해야 하며, 대화용도의 ChatGPT 모델을 선택하면 안됨\n",
    "model = RetrievalQAWithSourcesChain.from_chain_type(llm=OpenAI(model=\"gpt-3.5-turbo-instruct\"), chain_type=\"stuff\", retriever=retriever)"
   ]
  },
  {
   "cell_type": "code",
   "execution_count": 7,
   "metadata": {},
   "outputs": [
    {
     "name": "stderr",
     "output_type": "stream",
     "text": [
      "/Users/eugene/opt/anaconda3/envs/LLM/lib/python3.10/site-packages/langchain_core/_api/deprecation.py:117: LangChainDeprecationWarning: The function `__call__` was deprecated in LangChain 0.1.0 and will be removed in 0.2.0. Use invoke instead.\n",
      "  warn_deprecated(\n"
     ]
    },
    {
     "name": "stdout",
     "output_type": "stream",
     "text": [
      "Answer:   To add the Titan network in Metamask, follow the instructions in the user guide provided by Tokamak Network. \n",
      "\n",
      "Source faiss/Add Titan Network in Metamask_KR.pdf\n"
     ]
    }
   ],
   "source": [
    "question = \"metamask에 titan 네트워크를 추가하는 방법은 알려주세요 \"\n",
    "\n",
    "# model() 메소드는 langchain 라이브러리의 RetrievalQAWithSourcesChain 클래스의 인스턴스 메서드\n",
    "# 질의응답, context 등은 dictionary 자료형임\n",
    "response = model({\"question\": question}, return_only_outputs=True)\n",
    "print(\"Answer: \", response['answer'])\n",
    "print(\"Source\", response['sources'])"
   ]
  },
  {
   "cell_type": "markdown",
   "metadata": {},
   "source": [
    "## 02. Saving & loading"
   ]
  },
  {
   "cell_type": "code",
   "execution_count": 8,
   "metadata": {},
   "outputs": [],
   "source": [
    "# 폴더명 지정\n",
    "save_directory = \"store\"\n",
    "# save_local 메소드는 \"store\" 폴더가 없으면 erro 출력대신 해당폴더를 생성한다는 장점이 있다\n",
    "# 해당폴더안에 기존의 index.faiss, index.pkl 파일이 있는 경우에는 덮어쓴다\n",
    "db.save_local(save_directory)"
   ]
  },
  {
   "cell_type": "code",
   "execution_count": 9,
   "metadata": {},
   "outputs": [],
   "source": [
    "# saving, loading 둘다 폴더명을 인자로 받는다는 점을 주의해야 함 (파일명 x)\n",
    "new_db = FAISS.load_local(save_directory, embeddings)\n"
   ]
  },
  {
   "cell_type": "code",
   "execution_count": 10,
   "metadata": {},
   "outputs": [
    {
     "data": {
      "text/plain": [
       "langchain_community.vectorstores.faiss.FAISS"
      ]
     },
     "execution_count": 10,
     "metadata": {},
     "output_type": "execute_result"
    }
   ],
   "source": [
    "type(new_db)"
   ]
  },
  {
   "cell_type": "code",
   "execution_count": 11,
   "metadata": {},
   "outputs": [
    {
     "name": "stdout",
     "output_type": "stream",
     "text": [
      "Size of new_db: 48 bytes\n",
      "Size of db: 48 bytes\n"
     ]
    }
   ],
   "source": [
    "import sys\n",
    "size_1 = sys.getsizeof(new_db)\n",
    "size_2 = sys.getsizeof(db)\n",
    "print(\"Size of new_db:\", size_1, \"bytes\")\n",
    "print(\"Size of db:\", size_2, \"bytes\")\n"
   ]
  },
  {
   "cell_type": "code",
   "execution_count": 20,
   "metadata": {},
   "outputs": [
    {
     "name": "stdout",
     "output_type": "stream",
     "text": [
      "['_FAISS__add', '_FAISS__from', '__abstractmethods__', '__class__', '__delattr__', '__dict__', '__dir__', '__doc__', '__eq__', '__format__', '__ge__', '__getattribute__', '__gt__', '__hash__', '__init__', '__init_subclass__', '__le__', '__lt__', '__module__', '__ne__', '__new__', '__reduce__', '__reduce_ex__', '__repr__', '__setattr__', '__sizeof__', '__slots__', '__str__', '__subclasshook__', '__weakref__', '_abc_impl', '_aembed_documents', '_aembed_query', '_asimilarity_search_with_relevance_scores', '_cosine_relevance_score_fn', '_embed_documents', '_embed_query', '_euclidean_relevance_score_fn', '_get_retriever_tags', '_max_inner_product_relevance_score_fn', '_normalize_L2', '_select_relevance_score_fn', '_similarity_search_with_relevance_scores', 'aadd_documents', 'aadd_texts', 'add_documents', 'add_embeddings', 'add_texts', 'adelete', 'afrom_documents', 'afrom_embeddings', 'afrom_texts', 'amax_marginal_relevance_search', 'amax_marginal_relevance_search_by_vector', 'amax_marginal_relevance_search_with_score_by_vector', 'as_retriever', 'asearch', 'asimilarity_search', 'asimilarity_search_by_vector', 'asimilarity_search_with_relevance_scores', 'asimilarity_search_with_score', 'asimilarity_search_with_score_by_vector', 'delete', 'deserialize_from_bytes', 'distance_strategy', 'docstore', 'embedding_function', 'embeddings', 'from_documents', 'from_embeddings', 'from_texts', 'index', 'index_to_docstore_id', 'load_local', 'max_marginal_relevance_search', 'max_marginal_relevance_search_by_vector', 'max_marginal_relevance_search_with_score_by_vector', 'merge_from', 'override_relevance_score_fn', 'save_local', 'search', 'serialize_to_bytes', 'similarity_search', 'similarity_search_by_vector', 'similarity_search_with_relevance_scores', 'similarity_search_with_score', 'similarity_search_with_score_by_vector']\n"
     ]
    }
   ],
   "source": [
    "print(dir(new_db))"
   ]
  },
  {
   "cell_type": "markdown",
   "metadata": {},
   "source": [
    "## 03. View documenents\n",
    "\n",
    "FAISS.from_documents(docs, embeddings) 생성자를 통해 생성된 FAISS 객체의 자료구조를 확인 --> vectorstore update에 필요"
   ]
  },
  {
   "cell_type": "code",
   "execution_count": 12,
   "metadata": {},
   "outputs": [],
   "source": [
    "# 일단 dataframe으로 변환하여 시각화  : display() 사용\n",
    "def show_vstore(_store):\n",
    "    vector_df = store_to_df(_store)\n",
    "    display(vector_df)\n",
    "\n",
    "# vectorstore는 dictionay 자료형\n",
    "# FAISS.load_local()로 vectorstore 객체의 docstore속성의 하위 속성인 _dict 속성을 이용하여 dictionary형으로 자료를 추출해야 함\n",
    "# dictionary의 key값은 chunk_id 이므로 .keys() 메소드를 이용하여 추출 (for문을 이용하여 순차적으로 추출)\n",
    "# value값은 metadata 속성이며, 그 하위에 document, page, content 등으로 존재함\n",
    "# 먼저 dictionary의 metadata에서 source, page, page_content 등 3가지 value를 추출한 후\n",
    "# name, page number, content 등의 이름으로 저장 --> 이를 data_rows에 추가\n",
    "def store_to_df(_store):\n",
    "    v_dict = _store.docstore._dict\n",
    "    data_rows = []\n",
    "    for k in v_dict.keys():\n",
    "        doc_name = v_dict[k].metadata['source'].split('/')[-1]\n",
    "        page_number = v_dict[k].metadata['page']+1\n",
    "        content = v_dict[k].page_content\n",
    "        # key값과 함께 3개의 value값을 dictionary로 만들어서 data_rows에 추가\n",
    "        data_rows.append({'chunk_id': k, 'document': doc_name, 'page': page_number, 'content': content})\n",
    "    vector_df = pd.DataFrame(data_rows)\n",
    "    return vector_df\n",
    "\n",
    "# '''\n",
    "# metadata는 faiss의 데이터 구조인 vectorstore의 일부로서, 그 안에는 사전(dictionary) 형태의 데이터 구조를 가짐\n",
    "# 사전의 key, value구조를 통해 문서의 출처(source), 페이지 번호(page)와 같은 문서에 대한 중요한 정보를 포함\n",
    "# 이 정보를 통해 각 데이터 항목이 어디에서 왔는지, 어떤 특성을 가지고 있는지 등을 파악할 수 있습니다.\n",
    "# '''"
   ]
  },
  {
   "cell_type": "code",
   "execution_count": 13,
   "metadata": {},
   "outputs": [
    {
     "data": {
      "text/html": [
       "<div>\n",
       "<style scoped>\n",
       "    .dataframe tbody tr th:only-of-type {\n",
       "        vertical-align: middle;\n",
       "    }\n",
       "\n",
       "    .dataframe tbody tr th {\n",
       "        vertical-align: top;\n",
       "    }\n",
       "\n",
       "    .dataframe thead th {\n",
       "        text-align: right;\n",
       "    }\n",
       "</style>\n",
       "<table border=\"1\" class=\"dataframe\">\n",
       "  <thead>\n",
       "    <tr style=\"text-align: right;\">\n",
       "      <th></th>\n",
       "      <th>chunk_id</th>\n",
       "      <th>document</th>\n",
       "      <th>page</th>\n",
       "      <th>content</th>\n",
       "    </tr>\n",
       "  </thead>\n",
       "  <tbody>\n",
       "    <tr>\n",
       "      <th>0</th>\n",
       "      <td>deb297c6-ba9f-478b-99c0-42d5334c3dc0</td>\n",
       "      <td>Gas Estimation.pdf</td>\n",
       "      <td>1</td>\n",
       "      <td>24. 1. 4. 오전  10:59 Gas Estimation - (current)...</td>\n",
       "    </tr>\n",
       "    <tr>\n",
       "      <th>1</th>\n",
       "      <td>5f17dab3-9c54-4298-a48c-93f5e7d378ba</td>\n",
       "      <td>Gas Estimation.pdf</td>\n",
       "      <td>2</td>\n",
       "      <td>24. 1. 4. 오전  10:59 Gas Estimation - (current)...</td>\n",
       "    </tr>\n",
       "    <tr>\n",
       "      <th>2</th>\n",
       "      <td>1a2331e3-69e4-4ba0-99c4-add19ad2388a</td>\n",
       "      <td>Gas Estimation.pdf</td>\n",
       "      <td>3</td>\n",
       "      <td>24. 1. 4. 오전  10:59 Gas Estimation - (current)...</td>\n",
       "    </tr>\n",
       "    <tr>\n",
       "      <th>3</th>\n",
       "      <td>7afbe081-9ee6-4f4f-b704-482a70b866fd</td>\n",
       "      <td>Gas Estimation.pdf</td>\n",
       "      <td>4</td>\n",
       "      <td>24. 1. 4. 오전  10:59 Gas Estimation - (current)...</td>\n",
       "    </tr>\n",
       "    <tr>\n",
       "      <th>4</th>\n",
       "      <td>39d45e1a-ca40-4e69-a268-2e02607fa808</td>\n",
       "      <td>L2 fee.pdf</td>\n",
       "      <td>1</td>\n",
       "      <td>24. 1. 4. 오전  10:49 L2 fee - (current) User Gu...</td>\n",
       "    </tr>\n",
       "    <tr>\n",
       "      <th>...</th>\n",
       "      <td>...</td>\n",
       "      <td>...</td>\n",
       "      <td>...</td>\n",
       "      <td>...</td>\n",
       "    </tr>\n",
       "    <tr>\n",
       "      <th>79</th>\n",
       "      <td>cb2ad5bd-2656-411d-b7e9-b6af31459895</td>\n",
       "      <td>How to Create a Standard ERC20 Token in L2.pdf</td>\n",
       "      <td>3</td>\n",
       "      <td>24. 1. 4. 오전  10:50 How to Create a Standard E...</td>\n",
       "    </tr>\n",
       "    <tr>\n",
       "      <th>80</th>\n",
       "      <td>590c86ce-0caf-49aa-b275-fe58fb49533a</td>\n",
       "      <td>How to Create a Standard ERC20 Token in L2.pdf</td>\n",
       "      <td>4</td>\n",
       "      <td>24. 1. 4. 오전  10:50 How to Create a Standard E...</td>\n",
       "    </tr>\n",
       "    <tr>\n",
       "      <th>81</th>\n",
       "      <td>9ee0d69a-c54a-4bb8-a638-9826ee595c0e</td>\n",
       "      <td>How to Create a Standard ERC20 Token in L2.pdf</td>\n",
       "      <td>5</td>\n",
       "      <td>24. 1. 4. 오전  10:50 How to Create a Standard E...</td>\n",
       "    </tr>\n",
       "    <tr>\n",
       "      <th>82</th>\n",
       "      <td>3c9a43db-9d16-4e21-a58b-11f498a4ea76</td>\n",
       "      <td>How to Create a Standard ERC20 Token in L2.pdf</td>\n",
       "      <td>6</td>\n",
       "      <td>24. 1. 4. 오전  10:50 How to Create a Standard E...</td>\n",
       "    </tr>\n",
       "    <tr>\n",
       "      <th>83</th>\n",
       "      <td>2f3caae1-a090-44f0-8a17-b620a03cfb28</td>\n",
       "      <td>Titan_User Guide_01.pdf</td>\n",
       "      <td>1</td>\n",
       "      <td>24. 1. 4. 오전  10:40 Titan - (current) User Gui...</td>\n",
       "    </tr>\n",
       "  </tbody>\n",
       "</table>\n",
       "<p>84 rows × 4 columns</p>\n",
       "</div>"
      ],
      "text/plain": [
       "                                chunk_id  \\\n",
       "0   deb297c6-ba9f-478b-99c0-42d5334c3dc0   \n",
       "1   5f17dab3-9c54-4298-a48c-93f5e7d378ba   \n",
       "2   1a2331e3-69e4-4ba0-99c4-add19ad2388a   \n",
       "3   7afbe081-9ee6-4f4f-b704-482a70b866fd   \n",
       "4   39d45e1a-ca40-4e69-a268-2e02607fa808   \n",
       "..                                   ...   \n",
       "79  cb2ad5bd-2656-411d-b7e9-b6af31459895   \n",
       "80  590c86ce-0caf-49aa-b275-fe58fb49533a   \n",
       "81  9ee0d69a-c54a-4bb8-a638-9826ee595c0e   \n",
       "82  3c9a43db-9d16-4e21-a58b-11f498a4ea76   \n",
       "83  2f3caae1-a090-44f0-8a17-b620a03cfb28   \n",
       "\n",
       "                                          document  page  \\\n",
       "0                               Gas Estimation.pdf     1   \n",
       "1                               Gas Estimation.pdf     2   \n",
       "2                               Gas Estimation.pdf     3   \n",
       "3                               Gas Estimation.pdf     4   \n",
       "4                                       L2 fee.pdf     1   \n",
       "..                                             ...   ...   \n",
       "79  How to Create a Standard ERC20 Token in L2.pdf     3   \n",
       "80  How to Create a Standard ERC20 Token in L2.pdf     4   \n",
       "81  How to Create a Standard ERC20 Token in L2.pdf     5   \n",
       "82  How to Create a Standard ERC20 Token in L2.pdf     6   \n",
       "83                         Titan_User Guide_01.pdf     1   \n",
       "\n",
       "                                              content  \n",
       "0   24. 1. 4. 오전  10:59 Gas Estimation - (current)...  \n",
       "1   24. 1. 4. 오전  10:59 Gas Estimation - (current)...  \n",
       "2   24. 1. 4. 오전  10:59 Gas Estimation - (current)...  \n",
       "3   24. 1. 4. 오전  10:59 Gas Estimation - (current)...  \n",
       "4   24. 1. 4. 오전  10:49 L2 fee - (current) User Gu...  \n",
       "..                                                ...  \n",
       "79  24. 1. 4. 오전  10:50 How to Create a Standard E...  \n",
       "80  24. 1. 4. 오전  10:50 How to Create a Standard E...  \n",
       "81  24. 1. 4. 오전  10:50 How to Create a Standard E...  \n",
       "82  24. 1. 4. 오전  10:50 How to Create a Standard E...  \n",
       "83  24. 1. 4. 오전  10:40 Titan - (current) User Gui...  \n",
       "\n",
       "[84 rows x 4 columns]"
      ]
     },
     "metadata": {},
     "output_type": "display_data"
    }
   ],
   "source": [
    "show_vstore(new_db)"
   ]
  },
  {
   "cell_type": "markdown",
   "metadata": {},
   "source": [
    "## 04. Delete documents from the database\n"
   ]
  },
  {
   "cell_type": "code",
   "execution_count": 30,
   "metadata": {},
   "outputs": [],
   "source": [
    "# vectorstore update (via delete)\n",
    "# name of the document you want to delete\n",
    "def delete_document(_store,_document):\n",
    "    # 우선 vectorstore 자료를 store_to_df() 함수를 이용하여 dataframe으로 변환\n",
    "    vector_df = store_to_df(_store)\n",
    "    # 삭제할 문서가 여러개의 chunk_id로 나뉘어져 있을 수 있으므로, 이를 모두 삭제해야 함\n",
    "    # 삭제할 문서의 이름과 일치하는 문서의 모든 chunk_id만 추출해서 pandas의 tolist()메소드를 이용하여 list자료형으로 chunk_list에 저장\n",
    "    chunk_list = vector_df.loc[vector_df['document']==_document]['chunk_id'].tolist()\n",
    "    # FAISS 객체의 .delete() 메소드를 이용하여 chunk_list 해당부분 삭제\n",
    "    _store.delete(chunk_list)\n",
    "\n",
    "# model update (via retriever and chain)\n",
    "def refresh_model(_new_store):\n",
    "    retriever = _new_store.as_retriever()\n",
    "    model = RetrievalQAWithSourcesChain.from_chain_type(llm=OpenAI(model=\"gpt-3.5-turbo-instruct\"), chain_type=\"stuff\", retriever=retriever)\n",
    "    return model\n"
   ]
  },
  {
   "cell_type": "code",
   "execution_count": 31,
   "metadata": {},
   "outputs": [
    {
     "data": {
      "text/html": [
       "<div>\n",
       "<style scoped>\n",
       "    .dataframe tbody tr th:only-of-type {\n",
       "        vertical-align: middle;\n",
       "    }\n",
       "\n",
       "    .dataframe tbody tr th {\n",
       "        vertical-align: top;\n",
       "    }\n",
       "\n",
       "    .dataframe thead th {\n",
       "        text-align: right;\n",
       "    }\n",
       "</style>\n",
       "<table border=\"1\" class=\"dataframe\">\n",
       "  <thead>\n",
       "    <tr style=\"text-align: right;\">\n",
       "      <th></th>\n",
       "      <th>chunk_id</th>\n",
       "      <th>document</th>\n",
       "      <th>page</th>\n",
       "      <th>content</th>\n",
       "    </tr>\n",
       "  </thead>\n",
       "  <tbody>\n",
       "    <tr>\n",
       "      <th>0</th>\n",
       "      <td>39d45e1a-ca40-4e69-a268-2e02607fa808</td>\n",
       "      <td>L2 fee.pdf</td>\n",
       "      <td>1</td>\n",
       "      <td>24. 1. 4. 오전  10:49 L2 fee - (current) User Gu...</td>\n",
       "    </tr>\n",
       "    <tr>\n",
       "      <th>1</th>\n",
       "      <td>703f3d0e-82ed-4f59-8caa-29c61f46e71c</td>\n",
       "      <td>Running a local development environment_KR.pdf</td>\n",
       "      <td>1</td>\n",
       "      <td>24. 1. 4. 오후  1:01 Running a local development...</td>\n",
       "    </tr>\n",
       "    <tr>\n",
       "      <th>2</th>\n",
       "      <td>6cc06eae-3cc3-4f71-b826-a32ef69c454d</td>\n",
       "      <td>Running a local development environment_KR.pdf</td>\n",
       "      <td>2</td>\n",
       "      <td>24. 1. 4. 오후  1:01 Running a local development...</td>\n",
       "    </tr>\n",
       "    <tr>\n",
       "      <th>3</th>\n",
       "      <td>e6aaf1a3-135a-43a0-9972-56a277b754e3</td>\n",
       "      <td>Running a local development environment_KR.pdf</td>\n",
       "      <td>3</td>\n",
       "      <td>24. 1. 4. 오후  1:01 Running a local development...</td>\n",
       "    </tr>\n",
       "    <tr>\n",
       "      <th>4</th>\n",
       "      <td>260c0b4d-1874-4444-b38d-340905244350</td>\n",
       "      <td>Contract Addresses.pdf</td>\n",
       "      <td>1</td>\n",
       "      <td>24. 1. 4. 오전  10:52 Contract Addresses - (curr...</td>\n",
       "    </tr>\n",
       "    <tr>\n",
       "      <th>...</th>\n",
       "      <td>...</td>\n",
       "      <td>...</td>\n",
       "      <td>...</td>\n",
       "      <td>...</td>\n",
       "    </tr>\n",
       "    <tr>\n",
       "      <th>75</th>\n",
       "      <td>cb2ad5bd-2656-411d-b7e9-b6af31459895</td>\n",
       "      <td>How to Create a Standard ERC20 Token in L2.pdf</td>\n",
       "      <td>3</td>\n",
       "      <td>24. 1. 4. 오전  10:50 How to Create a Standard E...</td>\n",
       "    </tr>\n",
       "    <tr>\n",
       "      <th>76</th>\n",
       "      <td>590c86ce-0caf-49aa-b275-fe58fb49533a</td>\n",
       "      <td>How to Create a Standard ERC20 Token in L2.pdf</td>\n",
       "      <td>4</td>\n",
       "      <td>24. 1. 4. 오전  10:50 How to Create a Standard E...</td>\n",
       "    </tr>\n",
       "    <tr>\n",
       "      <th>77</th>\n",
       "      <td>9ee0d69a-c54a-4bb8-a638-9826ee595c0e</td>\n",
       "      <td>How to Create a Standard ERC20 Token in L2.pdf</td>\n",
       "      <td>5</td>\n",
       "      <td>24. 1. 4. 오전  10:50 How to Create a Standard E...</td>\n",
       "    </tr>\n",
       "    <tr>\n",
       "      <th>78</th>\n",
       "      <td>3c9a43db-9d16-4e21-a58b-11f498a4ea76</td>\n",
       "      <td>How to Create a Standard ERC20 Token in L2.pdf</td>\n",
       "      <td>6</td>\n",
       "      <td>24. 1. 4. 오전  10:50 How to Create a Standard E...</td>\n",
       "    </tr>\n",
       "    <tr>\n",
       "      <th>79</th>\n",
       "      <td>2f3caae1-a090-44f0-8a17-b620a03cfb28</td>\n",
       "      <td>Titan_User Guide_01.pdf</td>\n",
       "      <td>1</td>\n",
       "      <td>24. 1. 4. 오전  10:40 Titan - (current) User Gui...</td>\n",
       "    </tr>\n",
       "  </tbody>\n",
       "</table>\n",
       "<p>80 rows × 4 columns</p>\n",
       "</div>"
      ],
      "text/plain": [
       "                                chunk_id  \\\n",
       "0   39d45e1a-ca40-4e69-a268-2e02607fa808   \n",
       "1   703f3d0e-82ed-4f59-8caa-29c61f46e71c   \n",
       "2   6cc06eae-3cc3-4f71-b826-a32ef69c454d   \n",
       "3   e6aaf1a3-135a-43a0-9972-56a277b754e3   \n",
       "4   260c0b4d-1874-4444-b38d-340905244350   \n",
       "..                                   ...   \n",
       "75  cb2ad5bd-2656-411d-b7e9-b6af31459895   \n",
       "76  590c86ce-0caf-49aa-b275-fe58fb49533a   \n",
       "77  9ee0d69a-c54a-4bb8-a638-9826ee595c0e   \n",
       "78  3c9a43db-9d16-4e21-a58b-11f498a4ea76   \n",
       "79  2f3caae1-a090-44f0-8a17-b620a03cfb28   \n",
       "\n",
       "                                          document  page  \\\n",
       "0                                       L2 fee.pdf     1   \n",
       "1   Running a local development environment_KR.pdf     1   \n",
       "2   Running a local development environment_KR.pdf     2   \n",
       "3   Running a local development environment_KR.pdf     3   \n",
       "4                           Contract Addresses.pdf     1   \n",
       "..                                             ...   ...   \n",
       "75  How to Create a Standard ERC20 Token in L2.pdf     3   \n",
       "76  How to Create a Standard ERC20 Token in L2.pdf     4   \n",
       "77  How to Create a Standard ERC20 Token in L2.pdf     5   \n",
       "78  How to Create a Standard ERC20 Token in L2.pdf     6   \n",
       "79                         Titan_User Guide_01.pdf     1   \n",
       "\n",
       "                                              content  \n",
       "0   24. 1. 4. 오전  10:49 L2 fee - (current) User Gu...  \n",
       "1   24. 1. 4. 오후  1:01 Running a local development...  \n",
       "2   24. 1. 4. 오후  1:01 Running a local development...  \n",
       "3   24. 1. 4. 오후  1:01 Running a local development...  \n",
       "4   24. 1. 4. 오전  10:52 Contract Addresses - (curr...  \n",
       "..                                                ...  \n",
       "75  24. 1. 4. 오전  10:50 How to Create a Standard E...  \n",
       "76  24. 1. 4. 오전  10:50 How to Create a Standard E...  \n",
       "77  24. 1. 4. 오전  10:50 How to Create a Standard E...  \n",
       "78  24. 1. 4. 오전  10:50 How to Create a Standard E...  \n",
       "79  24. 1. 4. 오전  10:40 Titan - (current) User Gui...  \n",
       "\n",
       "[80 rows x 4 columns]"
      ]
     },
     "metadata": {},
     "output_type": "display_data"
    }
   ],
   "source": [
    "delete_document(new_db, \"Gas Estimation.pdf\")\n",
    "show_vstore(new_db)"
   ]
  },
  {
   "cell_type": "code",
   "execution_count": 32,
   "metadata": {},
   "outputs": [],
   "source": [
    "# refresh_model\n",
    "\n",
    "model = refresh_model(new_db)"
   ]
  },
  {
   "cell_type": "code",
   "execution_count": null,
   "metadata": {},
   "outputs": [],
   "source": [
    "# check deletion\n",
    "question = \"explain fee briefly\"\n",
    "response = model({\"question\": question}, return_only_outputs=True)\n",
    "\n",
    "print(\"Answer: \", response['answer'])\n",
    "print(\"Source\", response['sources'])"
   ]
  },
  {
   "cell_type": "markdown",
   "metadata": {},
   "source": [
    "## 05. Add new document"
   ]
  },
  {
   "cell_type": "markdown",
   "metadata": {},
   "source": [
    "## 06. 사용자 인증"
   ]
  },
  {
   "cell_type": "markdown",
   "metadata": {},
   "source": [
    "배경 \n",
    "1. openAI에서는 Oauth 관련 API를 제공하지 않으므로, openAI계정으로 로그인할 수 없다. \n",
    "2. openAI의 API를 이용한 서비스를 할 경우, 사용자는 자신의 API KEY를 가지고 다녀야 하는 것이 정책이다 (BYOK 정책)\n",
    "3. 따라서 입력한 API KEY 값을 통해 \n",
    "   1. 유효한 api key인지 판단\n",
    "   2. 관리자의 api key인지 판단 (맞다면 관리자용 view를 제공)"
   ]
  },
  {
   "cell_type": "code",
   "execution_count": 1,
   "metadata": {},
   "outputs": [
    {
     "name": "stdout",
     "output_type": "stream",
     "text": [
      "5037b0323ca115f98272f15c606f4cdca978941181dfbb4baa913359950e3c61\n"
     ]
    }
   ],
   "source": [
    "import hashlib\n",
    "\n",
    "# 1. 관리자의 api key의 hash값으로 변환하여 변수로 저장\n",
    "admin_key = \"120hx7gadvda12xh128998938495 \" # \"120hx7gadvda12xh128998938495\"는 admin key를 가정한 임의의 문자열임\n",
    "admin_key_hash = hashlib.sha256(admin_key.encode()).hexdigest()\n",
    "\n",
    "print(admin_key_hash)\n",
    "\n"
   ]
  },
  {
   "cell_type": "code",
   "execution_count": 2,
   "metadata": {},
   "outputs": [],
   "source": [
    "# 2. 사용자가 접속하여 text input 창에 api key를 입력\n",
    "user_input_api_key = input(\"Enter your API key: \")"
   ]
  },
  {
   "cell_type": "code",
   "execution_count": 3,
   "metadata": {},
   "outputs": [],
   "source": [
    "# 3. 해당 api key의 hash값이 관리자의 api key hash값과 일치하는지 검사\n",
    "user_api_key_hash = hashlib.sha256(user_input_api_key.encode()).hexdigest()"
   ]
  },
  {
   "cell_type": "code",
   "execution_count": 4,
   "metadata": {},
   "outputs": [
    {
     "name": "stdout",
     "output_type": "stream",
     "text": [
      "Is user API key correct? False\n"
     ]
    }
   ],
   "source": [
    "# 4. hash 일치 여부 판단\n",
    "is_admin = (user_api_key_hash == admin_key_hash)\n",
    "\n",
    "# 결과 출력\n",
    "print(\"Is user API key correct?\", is_admin)"
   ]
  },
  {
   "cell_type": "code",
   "execution_count": null,
   "metadata": {},
   "outputs": [],
   "source": []
  }
 ],
 "metadata": {
  "kernelspec": {
   "display_name": "LLM",
   "language": "python",
   "name": "python3"
  },
  "language_info": {
   "codemirror_mode": {
    "name": "ipython",
    "version": 3
   },
   "file_extension": ".py",
   "mimetype": "text/x-python",
   "name": "python",
   "nbconvert_exporter": "python",
   "pygments_lexer": "ipython3",
   "version": "3.10.13"
  }
 },
 "nbformat": 4,
 "nbformat_minor": 2
}
